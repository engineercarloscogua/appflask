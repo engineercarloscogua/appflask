{
 "cells": [
  {
   "cell_type": "markdown",
   "metadata": {},
   "source": [
    "<p style=\"text-align:center\">\n",
    "    <a href=\"https://skills.network/?utm_medium=Exinfluencer&utm_source=Exinfluencer&utm_content=000026UJ&utm_term=10006555&utm_id=NA-SkillsNetwork-Channel-SkillsNetworkCoursesIBMDeveloperSkillsNetworkPY0220ENSkillsNetwork900-2022-01-01\" target=\"_blank\">\n",
    "    <img src=\"https://cf-courses-data.s3.us.cloud-object-storage.appdomain.cloud/assets/logos/SN_web_lightmode.png\" width=\"200\" alt=\"Skills Network Logo\">\n",
    "    </a>\n",
    "</p>\n"
   ]
  },
  {
   "cell_type": "markdown",
   "metadata": {},
   "source": [
    "<h1>Extracting and Visualizing Stock Data</h1>\n",
    "<h2>Description</h2>\n"
   ]
  },
  {
   "cell_type": "markdown",
   "metadata": {},
   "source": [
    "Extracting essential data from a dataset and displaying it is a necessary part of data science; therefore individuals can make correct decisions based on the data. In this assignment, you will extract some stock data, you will then display this data in a graph.\n"
   ]
  },
  {
   "cell_type": "markdown",
   "metadata": {},
   "source": [
    "<h2>Table of Contents</h2>\n",
    "<div class=\"alert alert-block alert-info\" style=\"margin-top: 20px\">\n",
    "    <ul>\n",
    "        <li>Define a Function that Makes a Graph</li>\n",
    "        <li>Question 1: Use yfinance to Extract Stock Data</li>\n",
    "        <li>Question 2: Use Webscraping to Extract Tesla Revenue Data</li>\n",
    "        <li>Question 3: Use yfinance to Extract Stock Data</li>\n",
    "        <li>Question 4: Use Webscraping to Extract GME Revenue Data</li>\n",
    "        <li>Question 5: Plot Tesla Stock Graph</li>\n",
    "        <li>Question 6: Plot GameStop Stock Graph</li>\n",
    "    </ul>\n",
    "<p>\n",
    "    Estimated Time Needed: <strong>30 min</strong></p>\n",
    "</div>\n",
    "\n",
    "<hr>\n"
   ]
  },
  {
   "cell_type": "markdown",
   "metadata": {},
   "source": [
    "***Note***:- If you are working Locally using anaconda, please uncomment the following code and execute it.\n"
   ]
  },
  {
   "cell_type": "code",
   "execution_count": 9,
   "metadata": {},
   "outputs": [
    {
     "name": "stdout",
     "output_type": "stream",
     "text": [
      "Defaulting to user installation because normal site-packages is not writeable\n",
      "Requirement already satisfied: yfinance==0.2.38 in c:\\users\\carlo\\appdata\\roaming\\python\\python311\\site-packages (0.2.38)\n",
      "Requirement already satisfied: pandas>=1.3.0 in c:\\users\\carlo\\appdata\\roaming\\python\\python311\\site-packages (from yfinance==0.2.38) (2.2.2)\n",
      "Requirement already satisfied: numpy>=1.16.5 in c:\\programdata\\anaconda3\\lib\\site-packages (from yfinance==0.2.38) (1.26.4)\n",
      "Requirement already satisfied: requests>=2.31 in c:\\programdata\\anaconda3\\lib\\site-packages (from yfinance==0.2.38) (2.31.0)\n",
      "Requirement already satisfied: multitasking>=0.0.7 in c:\\users\\carlo\\appdata\\roaming\\python\\python311\\site-packages (from yfinance==0.2.38) (0.0.11)\n",
      "Requirement already satisfied: lxml>=4.9.1 in c:\\programdata\\anaconda3\\lib\\site-packages (from yfinance==0.2.38) (4.9.3)\n",
      "Requirement already satisfied: appdirs>=1.4.4 in c:\\programdata\\anaconda3\\lib\\site-packages (from yfinance==0.2.38) (1.4.4)\n",
      "Requirement already satisfied: pytz>=2022.5 in c:\\programdata\\anaconda3\\lib\\site-packages (from yfinance==0.2.38) (2023.3.post1)\n",
      "Requirement already satisfied: frozendict>=2.3.4 in c:\\users\\carlo\\appdata\\roaming\\python\\python311\\site-packages (from yfinance==0.2.38) (2.4.4)\n",
      "Requirement already satisfied: peewee>=3.16.2 in c:\\users\\carlo\\appdata\\roaming\\python\\python311\\site-packages (from yfinance==0.2.38) (3.17.6)\n",
      "Requirement already satisfied: beautifulsoup4>=4.11.1 in c:\\programdata\\anaconda3\\lib\\site-packages (from yfinance==0.2.38) (4.12.2)\n",
      "Requirement already satisfied: html5lib>=1.1 in c:\\users\\carlo\\appdata\\roaming\\python\\python311\\site-packages (from yfinance==0.2.38) (1.1)\n",
      "Requirement already satisfied: soupsieve>1.2 in c:\\programdata\\anaconda3\\lib\\site-packages (from beautifulsoup4>=4.11.1->yfinance==0.2.38) (2.5)\n",
      "Requirement already satisfied: six>=1.9 in c:\\programdata\\anaconda3\\lib\\site-packages (from html5lib>=1.1->yfinance==0.2.38) (1.16.0)\n",
      "Requirement already satisfied: webencodings in c:\\programdata\\anaconda3\\lib\\site-packages (from html5lib>=1.1->yfinance==0.2.38) (0.5.1)\n",
      "Requirement already satisfied: python-dateutil>=2.8.2 in c:\\programdata\\anaconda3\\lib\\site-packages (from pandas>=1.3.0->yfinance==0.2.38) (2.8.2)\n",
      "Requirement already satisfied: tzdata>=2022.7 in c:\\programdata\\anaconda3\\lib\\site-packages (from pandas>=1.3.0->yfinance==0.2.38) (2023.3)\n",
      "Requirement already satisfied: charset-normalizer<4,>=2 in c:\\programdata\\anaconda3\\lib\\site-packages (from requests>=2.31->yfinance==0.2.38) (2.0.4)\n",
      "Requirement already satisfied: idna<4,>=2.5 in c:\\programdata\\anaconda3\\lib\\site-packages (from requests>=2.31->yfinance==0.2.38) (3.4)\n",
      "Requirement already satisfied: urllib3<3,>=1.21.1 in c:\\programdata\\anaconda3\\lib\\site-packages (from requests>=2.31->yfinance==0.2.38) (2.0.7)\n",
      "Requirement already satisfied: certifi>=2017.4.17 in c:\\programdata\\anaconda3\\lib\\site-packages (from requests>=2.31->yfinance==0.2.38) (2024.2.2)\n",
      "Defaulting to user installation because normal site-packages is not writeable\n",
      "Requirement already satisfied: pandas==2.2.2 in c:\\users\\carlo\\appdata\\roaming\\python\\python311\\site-packages (2.2.2)\n",
      "Requirement already satisfied: numpy>=1.23.2 in c:\\programdata\\anaconda3\\lib\\site-packages (from pandas==2.2.2) (1.26.4)\n",
      "Requirement already satisfied: python-dateutil>=2.8.2 in c:\\programdata\\anaconda3\\lib\\site-packages (from pandas==2.2.2) (2.8.2)\n",
      "Requirement already satisfied: pytz>=2020.1 in c:\\programdata\\anaconda3\\lib\\site-packages (from pandas==2.2.2) (2023.3.post1)\n",
      "Requirement already satisfied: tzdata>=2022.7 in c:\\programdata\\anaconda3\\lib\\site-packages (from pandas==2.2.2) (2023.3)\n",
      "Requirement already satisfied: six>=1.5 in c:\\programdata\\anaconda3\\lib\\site-packages (from python-dateutil>=2.8.2->pandas==2.2.2) (1.16.0)\n",
      "Defaulting to user installation because normal site-packages is not writeable\n",
      "Requirement already satisfied: nbformat in c:\\programdata\\anaconda3\\lib\\site-packages (5.9.2)\n",
      "Requirement already satisfied: fastjsonschema in c:\\programdata\\anaconda3\\lib\\site-packages (from nbformat) (2.16.2)\n",
      "Requirement already satisfied: jsonschema>=2.6 in c:\\programdata\\anaconda3\\lib\\site-packages (from nbformat) (4.19.2)\n",
      "Requirement already satisfied: jupyter-core in c:\\programdata\\anaconda3\\lib\\site-packages (from nbformat) (5.5.0)\n",
      "Requirement already satisfied: traitlets>=5.1 in c:\\programdata\\anaconda3\\lib\\site-packages (from nbformat) (5.7.1)\n",
      "Requirement already satisfied: attrs>=22.2.0 in c:\\programdata\\anaconda3\\lib\\site-packages (from jsonschema>=2.6->nbformat) (23.1.0)\n",
      "Requirement already satisfied: jsonschema-specifications>=2023.03.6 in c:\\programdata\\anaconda3\\lib\\site-packages (from jsonschema>=2.6->nbformat) (2023.7.1)\n",
      "Requirement already satisfied: referencing>=0.28.4 in c:\\programdata\\anaconda3\\lib\\site-packages (from jsonschema>=2.6->nbformat) (0.30.2)\n",
      "Requirement already satisfied: rpds-py>=0.7.1 in c:\\programdata\\anaconda3\\lib\\site-packages (from jsonschema>=2.6->nbformat) (0.10.6)\n",
      "Requirement already satisfied: platformdirs>=2.5 in c:\\programdata\\anaconda3\\lib\\site-packages (from jupyter-core->nbformat) (3.10.0)\n",
      "Requirement already satisfied: pywin32>=300 in c:\\programdata\\anaconda3\\lib\\site-packages (from jupyter-core->nbformat) (305.1)\n"
     ]
    }
   ],
   "source": [
    "# Instala la biblioteca yfinance, una herramienta para descargar datos financieros históricos y actuales desde Yahoo Finance.\n",
    "#!pip install yfinance==0.2.38\n",
    "# Instala la biblioteca pandas, una herramienta esencial para la manipulación y análisis de datos en Python.\n",
    "#!pip install pandas==2.2.2\n",
    "# Instala la biblioteca nbformat, que permite la lectura y escritura de notebooks Jupyter en formato JSON.\n",
    "#!pip install nbformat\n",
    "\n",
    "!pip install yfinance==0.2.38\n",
    "!pip install pandas==2.2.2\n",
    "!pip install nbformat"
   ]
  },
  {
   "cell_type": "code",
   "execution_count": 2,
   "metadata": {},
   "outputs": [
    {
     "name": "stdout",
     "output_type": "stream",
     "text": [
      "Defaulting to user installation because normal site-packages is not writeable\n",
      "Requirement already satisfied: yfinance in c:\\users\\carlo\\appdata\\roaming\\python\\python311\\site-packages (0.2.38)\n",
      "Requirement already satisfied: pandas>=1.3.0 in c:\\users\\carlo\\appdata\\roaming\\python\\python311\\site-packages (from yfinance) (2.2.2)\n",
      "Requirement already satisfied: numpy>=1.16.5 in c:\\programdata\\anaconda3\\lib\\site-packages (from yfinance) (1.26.4)\n",
      "Requirement already satisfied: requests>=2.31 in c:\\programdata\\anaconda3\\lib\\site-packages (from yfinance) (2.31.0)\n",
      "Requirement already satisfied: multitasking>=0.0.7 in c:\\users\\carlo\\appdata\\roaming\\python\\python311\\site-packages (from yfinance) (0.0.11)\n",
      "Requirement already satisfied: lxml>=4.9.1 in c:\\programdata\\anaconda3\\lib\\site-packages (from yfinance) (4.9.3)\n",
      "Requirement already satisfied: appdirs>=1.4.4 in c:\\programdata\\anaconda3\\lib\\site-packages (from yfinance) (1.4.4)\n",
      "Requirement already satisfied: pytz>=2022.5 in c:\\programdata\\anaconda3\\lib\\site-packages (from yfinance) (2023.3.post1)\n",
      "Requirement already satisfied: frozendict>=2.3.4 in c:\\users\\carlo\\appdata\\roaming\\python\\python311\\site-packages (from yfinance) (2.4.4)\n",
      "Requirement already satisfied: peewee>=3.16.2 in c:\\users\\carlo\\appdata\\roaming\\python\\python311\\site-packages (from yfinance) (3.17.6)\n",
      "Requirement already satisfied: beautifulsoup4>=4.11.1 in c:\\programdata\\anaconda3\\lib\\site-packages (from yfinance) (4.12.2)\n",
      "Requirement already satisfied: html5lib>=1.1 in c:\\users\\carlo\\appdata\\roaming\\python\\python311\\site-packages (from yfinance) (1.1)\n",
      "Requirement already satisfied: soupsieve>1.2 in c:\\programdata\\anaconda3\\lib\\site-packages (from beautifulsoup4>=4.11.1->yfinance) (2.5)\n",
      "Requirement already satisfied: six>=1.9 in c:\\programdata\\anaconda3\\lib\\site-packages (from html5lib>=1.1->yfinance) (1.16.0)\n",
      "Requirement already satisfied: webencodings in c:\\programdata\\anaconda3\\lib\\site-packages (from html5lib>=1.1->yfinance) (0.5.1)\n",
      "Requirement already satisfied: python-dateutil>=2.8.2 in c:\\programdata\\anaconda3\\lib\\site-packages (from pandas>=1.3.0->yfinance) (2.8.2)\n",
      "Requirement already satisfied: tzdata>=2022.7 in c:\\programdata\\anaconda3\\lib\\site-packages (from pandas>=1.3.0->yfinance) (2023.3)\n",
      "Requirement already satisfied: charset-normalizer<4,>=2 in c:\\programdata\\anaconda3\\lib\\site-packages (from requests>=2.31->yfinance) (2.0.4)\n",
      "Requirement already satisfied: idna<4,>=2.5 in c:\\programdata\\anaconda3\\lib\\site-packages (from requests>=2.31->yfinance) (3.4)\n",
      "Requirement already satisfied: urllib3<3,>=1.21.1 in c:\\programdata\\anaconda3\\lib\\site-packages (from requests>=2.31->yfinance) (2.0.7)\n",
      "Requirement already satisfied: certifi>=2017.4.17 in c:\\programdata\\anaconda3\\lib\\site-packages (from requests>=2.31->yfinance) (2024.2.2)\n",
      "Defaulting to user installation because normal site-packages is not writeable\n",
      "Requirement already satisfied: bs4 in c:\\users\\carlo\\appdata\\roaming\\python\\python311\\site-packages (0.0.2)\n",
      "Requirement already satisfied: beautifulsoup4 in c:\\programdata\\anaconda3\\lib\\site-packages (from bs4) (4.12.2)\n",
      "Requirement already satisfied: soupsieve>1.2 in c:\\programdata\\anaconda3\\lib\\site-packages (from beautifulsoup4->bs4) (2.5)\n",
      "Defaulting to user installation because normal site-packages is not writeable\n",
      "Requirement already satisfied: nbformat in c:\\programdata\\anaconda3\\lib\\site-packages (5.9.2)\n",
      "Requirement already satisfied: fastjsonschema in c:\\programdata\\anaconda3\\lib\\site-packages (from nbformat) (2.16.2)\n",
      "Requirement already satisfied: jsonschema>=2.6 in c:\\programdata\\anaconda3\\lib\\site-packages (from nbformat) (4.19.2)\n",
      "Requirement already satisfied: jupyter-core in c:\\programdata\\anaconda3\\lib\\site-packages (from nbformat) (5.5.0)\n",
      "Requirement already satisfied: traitlets>=5.1 in c:\\programdata\\anaconda3\\lib\\site-packages (from nbformat) (5.7.1)\n",
      "Requirement already satisfied: attrs>=22.2.0 in c:\\programdata\\anaconda3\\lib\\site-packages (from jsonschema>=2.6->nbformat) (23.1.0)\n",
      "Requirement already satisfied: jsonschema-specifications>=2023.03.6 in c:\\programdata\\anaconda3\\lib\\site-packages (from jsonschema>=2.6->nbformat) (2023.7.1)\n",
      "Requirement already satisfied: referencing>=0.28.4 in c:\\programdata\\anaconda3\\lib\\site-packages (from jsonschema>=2.6->nbformat) (0.30.2)\n",
      "Requirement already satisfied: rpds-py>=0.7.1 in c:\\programdata\\anaconda3\\lib\\site-packages (from jsonschema>=2.6->nbformat) (0.10.6)\n",
      "Requirement already satisfied: platformdirs>=2.5 in c:\\programdata\\anaconda3\\lib\\site-packages (from jupyter-core->nbformat) (3.10.0)\n",
      "Requirement already satisfied: pywin32>=300 in c:\\programdata\\anaconda3\\lib\\site-packages (from jupyter-core->nbformat) (305.1)\n"
     ]
    }
   ],
   "source": [
    "'''\n",
    "# Instala la biblioteca yfinance, una herramienta para descargar datos financieros históricos y actuales desde Yahoo Finance.\n",
    "!pip install yfinance\n",
    "# Instala la biblioteca BeautifulSoup (bs4), que se utiliza para analizar y extraer datos de archivos HTML y XML.\n",
    "!pip install bs4\n",
    "# Instala la biblioteca nbformat, que permite la lectura y escritura de notebooks Jupyter en formato JSON.\n",
    "!pip install nbformat\n",
    "\n",
    "'''\n",
    "!pip install yfinance\n",
    "!pip install bs4\n",
    "!pip install nbformat"
   ]
  },
  {
   "cell_type": "code",
   "execution_count": 3,
   "metadata": {},
   "outputs": [],
   "source": [
    "'''\n",
    "# Importa la biblioteca yfinance como 'yf', que permite descargar datos financieros históricos y actuales desde Yahoo Finance.\n",
    "import yfinance as yf\n",
    "# Importa la biblioteca pandas como 'pd', esencial para la manipulación y análisis de datos en estructuras tipo DataFrame.\n",
    "import pandas as pd\n",
    "# Importa la biblioteca requests, que facilita el envío de solicitudes HTTP para recuperar datos de la web.\n",
    "import requests\n",
    "# Importa BeautifulSoup desde la biblioteca bs4, que se utiliza para analizar y extraer datos de archivos HTML y XML.\n",
    "from bs4 import BeautifulSoup\n",
    "# Importa la biblioteca plotly.graph_objects como 'go', que se utiliza para crear gráficos interactivos y visualizaciones de datos.\n",
    "import plotly.graph_objects as go\n",
    "# Importa la función make_subplots desde plotly.subplots, que permite crear subgráficos dentro de una sola figura para visualizaciones más complejas.\n",
    "from plotly.subplots import make_subplots\n",
    "\n",
    "'''\n",
    "import yfinance as yf\n",
    "import pandas as pd\n",
    "import requests\n",
    "from bs4 import BeautifulSoup\n",
    "import plotly.graph_objects as go\n",
    "from plotly.subplots import make_subplots"
   ]
  },
  {
   "cell_type": "markdown",
   "metadata": {},
   "source": [
    "In Python, you can ignore warnings using the warnings module. You can use the filterwarnings function to filter or ignore specific warning messages or categories.\n"
   ]
  },
  {
   "cell_type": "code",
   "execution_count": 5,
   "metadata": {},
   "outputs": [],
   "source": [
    "# Importa la biblioteca warnings, que se utiliza para manejar las advertencias que Python emite durante la ejecución.\n",
    "import warnings\n",
    "# Ignora todas las advertencias de categoría FutureWarning. Estas advertencias suelen indicar que un comportamiento de la biblioteca o del código puede cambiar en futuras versiones.\n",
    "warnings.filterwarnings(\"ignore\", category=FutureWarning)\n"
   ]
  },
  {
   "cell_type": "markdown",
   "metadata": {},
   "source": [
    "## Define Graphing Function\n"
   ]
  },
  {
   "cell_type": "markdown",
   "metadata": {},
   "source": [
    "In this section, we define the function `make_graph`. **You don't have to know how the function works, you should only care about the inputs. It takes a dataframe with stock data (dataframe must contain Date and Close columns), a dataframe with revenue data (dataframe must contain Date and Revenue columns), and the name of the stock.**\n"
   ]
  },
  {
   "cell_type": "code",
   "execution_count": 8,
   "metadata": {},
   "outputs": [],
   "source": [
    "def make_graph(stock_data, revenue_data, stock):\n",
    "    # Crea una figura con dos subgráficos en una columna, compartiendo el eje x. \n",
    "    # El primer subgráfico muestra el precio de las acciones históricas y el segundo muestra los ingresos históricos.\n",
    "    fig = make_subplots(\n",
    "        rows=2, \n",
    "        cols=1, \n",
    "        shared_xaxes=True, \n",
    "        subplot_titles=(\"Historical Share Price\", \"Historical Revenue\"), \n",
    "        vertical_spacing=0.3\n",
    "    )\n",
    "    \n",
    "    # Filtra los datos de stock_data para incluir solo las fechas hasta el 14 de junio de 2021.\n",
    "    stock_data_specific = stock_data[stock_data.Date <= '2021-06-14']    \n",
    "    # Filtra los datos de revenue_data para incluir solo las fechas hasta el 30 de abril de 2021.\n",
    "    revenue_data_specific = revenue_data[revenue_data.Date <= '2021-04-30']    \n",
    "    # Agrega una traza de gráfico de dispersión para el precio de las acciones al primer subgráfico.\n",
    "    # Se convierte la columna 'Date' a formato datetime y 'Close' a tipo float.\n",
    "    fig.add_trace(\n",
    "        go.Scatter(x=pd.to_datetime(stock_data_specific.Date), y=stock_data_specific.Close.astype(\"float\"), name=\"Share Price\"), \n",
    "        row=1, \n",
    "        col=1\n",
    "    )    \n",
    "    # Agrega una traza de gráfico de dispersión para los ingresos al segundo subgráfico.\n",
    "    # Se convierte la columna 'Date' a formato datetime y 'Revenue' a tipo float.\n",
    "    fig.add_trace(\n",
    "        go.Scatter(x=pd.to_datetime(revenue_data_specific.Date), y=revenue_data_specific.Revenue.astype(\"float\"), name=\"Revenue\"), \n",
    "        row=2, \n",
    "        col=1\n",
    "    )    \n",
    "    # Actualiza el eje x del primer subgráfico para incluir un título.\n",
    "    fig.update_xaxes(title_text=\"Date\", row=1, col=1)    \n",
    "    # Actualiza el eje x del segundo subgráfico para incluir un título.\n",
    "    fig.update_xaxes(title_text=\"Date\", row=2, col=1)    \n",
    "    # Actualiza el eje y del primer subgráfico para incluir un título.\n",
    "    fig.update_yaxes(title_text=\"Price ($US)\", row=1, col=1)    \n",
    "    # Actualiza el eje y del segundo subgráfico para incluir un título.\n",
    "    fig.update_yaxes(title_text=\"Revenue ($US Millions)\", row=2, col=1)    \n",
    "    # Actualiza el diseño de la figura, ocultando la leyenda, estableciendo la altura de la figura, \n",
    "    # configurando el título y mostrando el control deslizante del rango x.\n",
    "    fig.update_layout(\n",
    "        showlegend=False,\n",
    "        height=900,\n",
    "        title=stock,\n",
    "        xaxis_rangeslider_visible=True\n",
    "    )    \n",
    "    # Muestra la figura interactiva.\n",
    "    fig.show()\n"
   ]
  },
  {
   "cell_type": "markdown",
   "metadata": {},
   "source": [
    "Use the make_graph function that we’ve already defined. You’ll need to invoke it in questions 5 and 6 to display the graphs and create the dashboard. \n",
    "> **Note: You don’t need to redefine the function for plotting graphs anywhere else in this notebook; just use the existing function.**\n"
   ]
  },
  {
   "cell_type": "markdown",
   "metadata": {},
   "source": [
    "# Ejercicio Final"
   ]
  },
  {
   "cell_type": "markdown",
   "metadata": {},
   "source": [
    "## Question 1: Use yfinance to Extract Stock Data\n"
   ]
  },
  {
   "cell_type": "markdown",
   "metadata": {},
   "source": [
    "Using the `Ticker` function enter the ticker symbol of the stock we want to extract data on to create a ticker object. The stock is Tesla and its ticker symbol is `TSLA`.\n",
    "\n",
    "Usando la función \"Ticker\", ingrese el símbolo de cotización de la acción de la que queremos extraer datos para crear un objeto de cotización. La acción es Tesla y su símbolo de cotización es \"TSLA\"."
   ]
  },
  {
   "cell_type": "markdown",
   "metadata": {},
   "source": [
    "## Pregunta 1: Utilice yfinance para extraer datos bursátiles"
   ]
  },
  {
   "cell_type": "code",
   "execution_count": 10,
   "metadata": {},
   "outputs": [
    {
     "name": "stdout",
     "output_type": "stream",
     "text": [
      "                                Open       High        Low      Close  \\\n",
      "Date                                                                    \n",
      "2019-09-09 00:00:00-04:00  15.333333  15.584000  15.282000  15.452667   \n",
      "2019-09-10 00:00:00-04:00  15.386667  15.702667  15.262667  15.702667   \n",
      "2019-09-11 00:00:00-04:00  15.825333  16.544666  15.733333  16.473333   \n",
      "2019-09-12 00:00:00-04:00  16.513332  16.900000  16.293333  16.391333   \n",
      "2019-09-13 00:00:00-04:00  16.464001  16.563334  16.324667  16.346666   \n",
      "\n",
      "                              Volume  Dividends  Stock Splits  \n",
      "Date                                                           \n",
      "2019-09-09 00:00:00-04:00   72040500        0.0           0.0  \n",
      "2019-09-10 00:00:00-04:00   73255500        0.0           0.0  \n",
      "2019-09-11 00:00:00-04:00  150642000        0.0           0.0  \n",
      "2019-09-12 00:00:00-04:00  128718000        0.0           0.0  \n",
      "2019-09-13 00:00:00-04:00   79696500        0.0           0.0  \n"
     ]
    }
   ],
   "source": [
    "! pip install yfinance\n",
    "import yfinance as yf\n",
    "# Descargar los datos de Tesla\n",
    "tesla = yf.Ticker(\"TSLA\")\n",
    "\n",
    "# Obtener el historial de datos\n",
    "tesla_hist = tesla.history(period=\"5y\")  # Datos de los últimos 5 años\n",
    "print(tesla_hist.head())"
   ]
  },
  {
   "cell_type": "markdown",
   "metadata": {},
   "source": [
    "Using the ticker object and the function `history` extract stock information and save it in a dataframe named `tesla_data`. Set the `period` parameter to ` \"max\" ` so we get information for the maximum amount of time.\n",
    "\n",
    "Usando el objeto ticker y la función \"historial\", extraiga información bursátil y guárdela en un marco de datos llamado \"tesla_data\". Establezca el parámetro `period` en ` \"max\" ` para que obtengamos información durante la cantidad máxima de tiempo.\n"
   ]
  },
  {
   "cell_type": "code",
   "execution_count": 12,
   "metadata": {},
   "outputs": [
    {
     "data": {
      "text/html": [
       "<div>\n",
       "<style scoped>\n",
       "    .dataframe tbody tr th:only-of-type {\n",
       "        vertical-align: middle;\n",
       "    }\n",
       "\n",
       "    .dataframe tbody tr th {\n",
       "        vertical-align: top;\n",
       "    }\n",
       "\n",
       "    .dataframe thead th {\n",
       "        text-align: right;\n",
       "    }\n",
       "</style>\n",
       "<table border=\"1\" class=\"dataframe\">\n",
       "  <thead>\n",
       "    <tr style=\"text-align: right;\">\n",
       "      <th></th>\n",
       "      <th>Open</th>\n",
       "      <th>High</th>\n",
       "      <th>Low</th>\n",
       "      <th>Close</th>\n",
       "      <th>Volume</th>\n",
       "      <th>Dividends</th>\n",
       "      <th>Stock Splits</th>\n",
       "    </tr>\n",
       "    <tr>\n",
       "      <th>Date</th>\n",
       "      <th></th>\n",
       "      <th></th>\n",
       "      <th></th>\n",
       "      <th></th>\n",
       "      <th></th>\n",
       "      <th></th>\n",
       "      <th></th>\n",
       "    </tr>\n",
       "  </thead>\n",
       "  <tbody>\n",
       "    <tr>\n",
       "      <th>2010-06-29 00:00:00-04:00</th>\n",
       "      <td>1.266667</td>\n",
       "      <td>1.666667</td>\n",
       "      <td>1.169333</td>\n",
       "      <td>1.592667</td>\n",
       "      <td>281494500</td>\n",
       "      <td>0.0</td>\n",
       "      <td>0.0</td>\n",
       "    </tr>\n",
       "    <tr>\n",
       "      <th>2010-06-30 00:00:00-04:00</th>\n",
       "      <td>1.719333</td>\n",
       "      <td>2.028000</td>\n",
       "      <td>1.553333</td>\n",
       "      <td>1.588667</td>\n",
       "      <td>257806500</td>\n",
       "      <td>0.0</td>\n",
       "      <td>0.0</td>\n",
       "    </tr>\n",
       "    <tr>\n",
       "      <th>2010-07-01 00:00:00-04:00</th>\n",
       "      <td>1.666667</td>\n",
       "      <td>1.728000</td>\n",
       "      <td>1.351333</td>\n",
       "      <td>1.464000</td>\n",
       "      <td>123282000</td>\n",
       "      <td>0.0</td>\n",
       "      <td>0.0</td>\n",
       "    </tr>\n",
       "    <tr>\n",
       "      <th>2010-07-02 00:00:00-04:00</th>\n",
       "      <td>1.533333</td>\n",
       "      <td>1.540000</td>\n",
       "      <td>1.247333</td>\n",
       "      <td>1.280000</td>\n",
       "      <td>77097000</td>\n",
       "      <td>0.0</td>\n",
       "      <td>0.0</td>\n",
       "    </tr>\n",
       "    <tr>\n",
       "      <th>2010-07-06 00:00:00-04:00</th>\n",
       "      <td>1.333333</td>\n",
       "      <td>1.333333</td>\n",
       "      <td>1.055333</td>\n",
       "      <td>1.074000</td>\n",
       "      <td>103003500</td>\n",
       "      <td>0.0</td>\n",
       "      <td>0.0</td>\n",
       "    </tr>\n",
       "  </tbody>\n",
       "</table>\n",
       "</div>"
      ],
      "text/plain": [
       "                               Open      High       Low     Close     Volume  \\\n",
       "Date                                                                           \n",
       "2010-06-29 00:00:00-04:00  1.266667  1.666667  1.169333  1.592667  281494500   \n",
       "2010-06-30 00:00:00-04:00  1.719333  2.028000  1.553333  1.588667  257806500   \n",
       "2010-07-01 00:00:00-04:00  1.666667  1.728000  1.351333  1.464000  123282000   \n",
       "2010-07-02 00:00:00-04:00  1.533333  1.540000  1.247333  1.280000   77097000   \n",
       "2010-07-06 00:00:00-04:00  1.333333  1.333333  1.055333  1.074000  103003500   \n",
       "\n",
       "                           Dividends  Stock Splits  \n",
       "Date                                                \n",
       "2010-06-29 00:00:00-04:00        0.0           0.0  \n",
       "2010-06-30 00:00:00-04:00        0.0           0.0  \n",
       "2010-07-01 00:00:00-04:00        0.0           0.0  \n",
       "2010-07-02 00:00:00-04:00        0.0           0.0  \n",
       "2010-07-06 00:00:00-04:00        0.0           0.0  "
      ]
     },
     "execution_count": 12,
     "metadata": {},
     "output_type": "execute_result"
    }
   ],
   "source": [
    "import yfinance as yf\n",
    "\n",
    "# Crear el objeto de cotización para Tesla (TSLA)\n",
    "tesla = yf.Ticker(\"TSLA\")\n",
    "\n",
    "# Extraer el historial bursátil con el periodo máximo\n",
    "tesla_data = tesla.history(period=\"max\")\n",
    "\n",
    "# Mostrar las primeras filas del DataFrame para verificar la información\n",
    "tesla_data.head()\n"
   ]
  },
  {
   "cell_type": "markdown",
   "metadata": {},
   "source": [
    "**Reset the index** using the `reset_index(inplace=True)` function on the tesla_data DataFrame and display the first five rows of the `tesla_data` dataframe using the `head` function. Take a screenshot of the results and code from the beginning of Question 1 to the results below.\n",
    "\n",
    "**Restablezca el índice** usando la función `reset_index(inplace=True)` en el marco de datos tesla_data y muestre las primeras cinco filas del marco de datos `tesla_data` usando la función `head`. Tome una captura de pantalla de los resultados y el código desde el comienzo de la Pregunta 1 hasta los resultados a continuación."
   ]
  },
  {
   "cell_type": "code",
   "execution_count": 14,
   "metadata": {},
   "outputs": [
    {
     "name": "stdout",
     "output_type": "stream",
     "text": [
      "                       Date       Open       High        Low      Close  \\\n",
      "0 2014-09-08 00:00:00-04:00  18.507999  18.992001  18.501333  18.807333   \n",
      "1 2014-09-09 00:00:00-04:00  18.865999  19.032667  18.466667  18.565332   \n",
      "2 2014-09-10 00:00:00-04:00  18.633333  18.760668  18.243999  18.740000   \n",
      "3 2014-09-11 00:00:00-04:00  18.697332  18.986000  18.575333  18.687332   \n",
      "4 2014-09-12 00:00:00-04:00  18.700001  18.826000  18.466667  18.613333   \n",
      "\n",
      "     Volume  Dividends  Stock Splits  \n",
      "0  82524000        0.0           0.0  \n",
      "1  68382000        0.0           0.0  \n",
      "2  56719500        0.0           0.0  \n",
      "3  56491500        0.0           0.0  \n",
      "4  49869000        0.0           0.0  \n"
     ]
    }
   ],
   "source": [
    "import yfinance as yf\n",
    "\n",
    "# Crear el objeto de cotización para Tesla (TSLA)\n",
    "tesla = yf.Ticker(\"TSLA\")\n",
    "\n",
    "# Extraer el historial bursátil desde un periodo más reciente (ejemplo: 10 años)\n",
    "tesla_data = tesla.history(period=\"10y\")\n",
    "\n",
    "# Reiniciar el índice en el DataFrame\n",
    "tesla_data.reset_index(inplace=True)\n",
    "\n",
    "# Mostrar las primeras cinco filas del DataFrame\n",
    "print(tesla_data.head())\n"
   ]
  },
  {
   "cell_type": "markdown",
   "metadata": {},
   "source": [
    "## Question 2: Use Webscraping to Extract Tesla Revenue Data\n"
   ]
  },
  {
   "cell_type": "markdown",
   "metadata": {},
   "source": [
    "Use the `requests` library to download the webpage https://cf-courses-data.s3.us.cloud-object-storage.appdomain.cloud/IBMDeveloperSkillsNetwork-PY0220EN-SkillsNetwork/labs/project/revenue.htm Save the text of the response as a variable named `html_data`.\n"
   ]
  },
  {
   "cell_type": "markdown",
   "metadata": {},
   "source": [
    "# Question 2: Use Webscraping to Extract Tesla Revenue Data"
   ]
  },
  {
   "cell_type": "code",
   "execution_count": 15,
   "metadata": {},
   "outputs": [
    {
     "name": "stdout",
     "output_type": "stream",
     "text": [
      "<table class=\"historical_data_table table\">\n",
      "<thead>\n",
      "<tr>\n",
      "<th colspan=\"2\" style=\"text-align:center\">Tesla Annual Revenue<br/><span style=\"font-size:14px;\">(Millions of US $)</span></th>\n",
      "</tr>\n",
      "</thead>\n",
      "<tbody>\n",
      "<tr>\n",
      "<td style=\"text-align:center\">2021</td>\n",
      "<td style=\"text-align:center\">$53,823</td>\n",
      "</tr>\n",
      "<tr>\n",
      "<td style=\"text-align:center\">2020</td>\n",
      "<td style=\"text-align:center\">$31,536</td>\n",
      "</tr>\n",
      "<tr>\n",
      "<td style=\"text-align:center\">2019</td>\n",
      "<td style=\"text-align:center\">$24,578</td>\n",
      "</tr>\n",
      "<tr>\n",
      "<td style=\"text-align:center\">2018</td>\n",
      "<td style=\"text-align:center\">$21,461</td>\n",
      "</tr>\n",
      "<tr>\n",
      "<td style=\"text-align:center\">2017</td>\n",
      "<td style=\"text-align:center\">$11,759</td>\n",
      "</tr>\n",
      "<tr>\n",
      "<td style=\"text-align:center\">2016</td>\n",
      "<td style=\"text-align:center\">$7,000</td>\n",
      "</tr>\n",
      "<tr>\n",
      "<td style=\"text-align:center\">2015</td>\n",
      "<td style=\"text-align:center\">$4,046</td>\n",
      "</tr>\n",
      "<tr>\n",
      "<td style=\"text-align:center\">2014</td>\n",
      "<td style=\"text-align:center\">$3,198</td>\n",
      "</tr>\n",
      "<tr>\n",
      "<td style=\"text-align:center\">2013</td>\n",
      "<td style=\"text-align:center\">$2,013</td>\n",
      "</tr>\n",
      "<tr>\n",
      "<td style=\"text-align:center\">2012</td>\n",
      "<td style=\"text-align:center\">$413</td>\n",
      "</tr>\n",
      "<tr>\n",
      "<td style=\"text-align:center\">2011</td>\n",
      "<td style=\"text-align:center\">$204</td>\n",
      "</tr>\n",
      "<tr>\n",
      "<td style=\"text-align:center\">2010</td>\n",
      "<td style=\"text-align:center\">$117</td>\n",
      "</tr>\n",
      "<tr>\n",
      "<td style=\"text-align:center\">2009</td>\n",
      "<td style=\"text-align:center\">$112</td>\n",
      "</tr>\n",
      "</tbody>\n",
      "</table>\n",
      "<table class=\"historical_data_table table\">\n",
      "<thead>\n",
      "<tr>\n",
      "<th colspan=\"2\" style=\"text-align:center\">Tesla Quarterly Revenue<br/><span style=\"font-size:14px;\">(Millions of US $)</span></th>\n",
      "</tr>\n",
      "</thead>\n",
      "<tbody>\n",
      "<tr>\n",
      "<td style=\"text-align:center\">2022-09-30</td>\n",
      "<td style=\"text-align:center\">$21,454</td>\n",
      "</tr>\n",
      "<tr>\n",
      "<td style=\"text-align:center\">2022-06-30</td>\n",
      "<td style=\"text-align:center\">$16,934</td>\n",
      "</tr>\n",
      "<tr>\n",
      "<td style=\"text-align:center\">2022-03-31</td>\n",
      "<td style=\"text-align:center\">$18,756</td>\n",
      "</tr>\n",
      "<tr>\n",
      "<td style=\"text-align:center\">2021-12-31</td>\n",
      "<td style=\"text-align:center\">$17,719</td>\n",
      "</tr>\n",
      "<tr>\n",
      "<td style=\"text-align:center\">2021-09-30</td>\n",
      "<td style=\"text-align:center\">$13,757</td>\n",
      "</tr>\n",
      "<tr>\n",
      "<td style=\"text-align:center\">2021-06-30</td>\n",
      "<td style=\"text-align:center\">$11,958</td>\n",
      "</tr>\n",
      "<tr>\n",
      "<td style=\"text-align:center\">2021-03-31</td>\n",
      "<td style=\"text-align:center\">$10,389</td>\n",
      "</tr>\n",
      "<tr>\n",
      "<td style=\"text-align:center\">2020-12-31</td>\n",
      "<td style=\"text-align:center\">$10,744</td>\n",
      "</tr>\n",
      "<tr>\n",
      "<td style=\"text-align:center\">2020-09-30</td>\n",
      "<td style=\"text-align:center\">$8,771</td>\n",
      "</tr>\n",
      "<tr>\n",
      "<td style=\"text-align:center\">2020-06-30</td>\n",
      "<td style=\"text-align:center\">$6,036</td>\n",
      "</tr>\n",
      "<tr>\n",
      "<td style=\"text-align:center\">2020-03-31</td>\n",
      "<td style=\"text-align:center\">$5,985</td>\n",
      "</tr>\n",
      "<tr>\n",
      "<td style=\"text-align:center\">2019-12-31</td>\n",
      "<td style=\"text-align:center\">$7,384</td>\n",
      "</tr>\n",
      "<tr>\n",
      "<td style=\"text-align:center\">2019-09-30</td>\n",
      "<td style=\"text-align:center\">$6,303</td>\n",
      "</tr>\n",
      "<tr>\n",
      "<td style=\"text-align:center\">2019-06-30</td>\n",
      "<td style=\"text-align:center\">$6,350</td>\n",
      "</tr>\n",
      "<tr>\n",
      "<td style=\"text-align:center\">2019-03-31</td>\n",
      "<td style=\"text-align:center\">$4,541</td>\n",
      "</tr>\n",
      "<tr>\n",
      "<td style=\"text-align:center\">2018-12-31</td>\n",
      "<td style=\"text-align:center\">$7,226</td>\n",
      "</tr>\n",
      "<tr>\n",
      "<td style=\"text-align:center\">2018-09-30</td>\n",
      "<td style=\"text-align:center\">$6,824</td>\n",
      "</tr>\n",
      "<tr>\n",
      "<td style=\"text-align:center\">2018-06-30</td>\n",
      "<td style=\"text-align:center\">$4,002</td>\n",
      "</tr>\n",
      "<tr>\n",
      "<td style=\"text-align:center\">2018-03-31</td>\n",
      "<td style=\"text-align:center\">$3,409</td>\n",
      "</tr>\n",
      "<tr>\n",
      "<td style=\"text-align:center\">2017-12-31</td>\n",
      "<td style=\"text-align:center\">$3,288</td>\n",
      "</tr>\n",
      "<tr>\n",
      "<td style=\"text-align:center\">2017-09-30</td>\n",
      "<td style=\"text-align:center\">$2,985</td>\n",
      "</tr>\n",
      "<tr>\n",
      "<td style=\"text-align:center\">2017-06-30</td>\n",
      "<td style=\"text-align:center\">$2,790</td>\n",
      "</tr>\n",
      "<tr>\n",
      "<td style=\"text-align:center\">2017-03-31</td>\n",
      "<td style=\"text-align:center\">$2,696</td>\n",
      "</tr>\n",
      "<tr>\n",
      "<td style=\"text-align:center\">2016-12-31</td>\n",
      "<td style=\"text-align:center\">$2,285</td>\n",
      "</tr>\n",
      "<tr>\n",
      "<td style=\"text-align:center\">2016-09-30</td>\n",
      "<td style=\"text-align:center\">$2,298</td>\n",
      "</tr>\n",
      "<tr>\n",
      "<td style=\"text-align:center\">2016-06-30</td>\n",
      "<td style=\"text-align:center\">$1,270</td>\n",
      "</tr>\n",
      "<tr>\n",
      "<td style=\"text-align:center\">2016-03-31</td>\n",
      "<td style=\"text-align:center\">$1,147</td>\n",
      "</tr>\n",
      "<tr>\n",
      "<td style=\"text-align:center\">2015-12-31</td>\n",
      "<td style=\"text-align:center\">$1,214</td>\n",
      "</tr>\n",
      "<tr>\n",
      "<td style=\"text-align:center\">2015-09-30</td>\n",
      "<td style=\"text-align:center\">$937</td>\n",
      "</tr>\n",
      "<tr>\n",
      "<td style=\"text-align:center\">2015-06-30</td>\n",
      "<td style=\"text-align:center\">$955</td>\n",
      "</tr>\n",
      "<tr>\n",
      "<td style=\"text-align:center\">2015-03-31</td>\n",
      "<td style=\"text-align:center\">$940</td>\n",
      "</tr>\n",
      "<tr>\n",
      "<td style=\"text-align:center\">2014-12-31</td>\n",
      "<td style=\"text-align:center\">$957</td>\n",
      "</tr>\n",
      "<tr>\n",
      "<td style=\"text-align:center\">2014-09-30</td>\n",
      "<td style=\"text-align:center\">$852</td>\n",
      "</tr>\n",
      "<tr>\n",
      "<td style=\"text-align:center\">2014-06-30</td>\n",
      "<td style=\"text-align:center\">$769</td>\n",
      "</tr>\n",
      "<tr>\n",
      "<td style=\"text-align:center\">2014-03-31</td>\n",
      "<td style=\"text-align:center\">$621</td>\n",
      "</tr>\n",
      "<tr>\n",
      "<td style=\"text-align:center\">2013-12-31</td>\n",
      "<td style=\"text-align:center\">$615</td>\n",
      "</tr>\n",
      "<tr>\n",
      "<td style=\"text-align:center\">2013-09-30</td>\n",
      "<td style=\"text-align:center\">$431</td>\n",
      "</tr>\n",
      "<tr>\n",
      "<td style=\"text-align:center\">2013-06-30</td>\n",
      "<td style=\"text-align:center\">$405</td>\n",
      "</tr>\n",
      "<tr>\n",
      "<td style=\"text-align:center\">2013-03-31</td>\n",
      "<td style=\"text-align:center\">$562</td>\n",
      "</tr>\n",
      "<tr>\n",
      "<td style=\"text-align:center\">2012-12-31</td>\n",
      "<td style=\"text-align:center\">$306</td>\n",
      "</tr>\n",
      "<tr>\n",
      "<td style=\"text-align:center\">2012-09-30</td>\n",
      "<td style=\"text-align:center\">$50</td>\n",
      "</tr>\n",
      "<tr>\n",
      "<td style=\"text-align:center\">2012-06-30</td>\n",
      "<td style=\"text-align:center\">$27</td>\n",
      "</tr>\n",
      "<tr>\n",
      "<td style=\"text-align:center\">2012-03-31</td>\n",
      "<td style=\"text-align:center\">$30</td>\n",
      "</tr>\n",
      "<tr>\n",
      "<td style=\"text-align:center\">2011-12-31</td>\n",
      "<td style=\"text-align:center\">$39</td>\n",
      "</tr>\n",
      "<tr>\n",
      "<td style=\"text-align:center\">2011-09-30</td>\n",
      "<td style=\"text-align:center\">$58</td>\n",
      "</tr>\n",
      "<tr>\n",
      "<td style=\"text-align:center\">2011-06-30</td>\n",
      "<td style=\"text-align:center\">$58</td>\n",
      "</tr>\n",
      "<tr>\n",
      "<td style=\"text-align:center\">2011-03-31</td>\n",
      "<td style=\"text-align:center\">$49</td>\n",
      "</tr>\n",
      "<tr>\n",
      "<td style=\"text-align:center\">2010-12-31</td>\n",
      "<td style=\"text-align:center\">$36</td>\n",
      "</tr>\n",
      "<tr>\n",
      "<td style=\"text-align:center\">2010-09-30</td>\n",
      "<td style=\"text-align:center\">$31</td>\n",
      "</tr>\n",
      "<tr>\n",
      "<td style=\"text-align:center\">2010-06-30</td>\n",
      "<td style=\"text-align:center\">$28</td>\n",
      "</tr>\n",
      "<tr>\n",
      "<td style=\"text-align:center\">2010-03-31</td>\n",
      "<td style=\"text-align:center\">$21</td>\n",
      "</tr>\n",
      "<tr>\n",
      "<td style=\"text-align:center\">2009-12-31</td>\n",
      "<td style=\"text-align:center\"></td>\n",
      "</tr>\n",
      "<tr>\n",
      "<td style=\"text-align:center\">2009-09-30</td>\n",
      "<td style=\"text-align:center\">$46</td>\n",
      "</tr>\n",
      "<tr>\n",
      "<td style=\"text-align:center\">2009-06-30</td>\n",
      "<td style=\"text-align:center\">$27</td>\n",
      "</tr>\n",
      "</tbody>\n",
      "</table>\n",
      "<table class=\"historical_data_table table\">\n",
      "<thead>\n",
      "<tr>\n",
      "<th style=\"text-align:center\">Sector</th>\n",
      "<th style=\"text-align:center\">Industry</th>\n",
      "<th style=\"text-align:center\">Market Cap</th>\n",
      "<th style=\"text-align:center\">Revenue</th>\n",
      "</tr>\n",
      "</thead>\n",
      "<tbody>\n",
      "<tr>\n",
      "<td style=\"text-align:center\"><a href=\"https://www.macrotrends.net/stocks/sector/5/auto-tires-trucks\">Auto/Tires/Trucks</a></td>\n",
      "<td style=\"text-align:center\"><a href=\"https://www.macrotrends.net/stocks/industry/7/\">Auto Manufacturers - Domestic</a></td>\n",
      "<td style=\"text-align:center\">$549.575B</td>\n",
      "<td style=\"text-align:center\">$53.823B</td>\n",
      "</tr>\n",
      "<tr>\n",
      "<td colspan=\"4\" style=\"padding:15px;\">\n",
      "<span>Tesla is the market leader in battery-powered electric car sales in the United States, with roughly 70% market share. The company's flagship Model 3 is the best-selling EV model in the United States. Tesla, which has managed to garner the reputation of a gold standard over the years, is now a far bigger entity that what it started off since its IPO in 2010, with its market cap crossing $1 trillion for the first time in October 2021.? The EV king's market capitalization is more than the combined value of legacy automakers including Toyota, Volkswagen, Daimler, General Motors and Ford.Over the years, Tesla has shifted from developing niche products for affluent buyers to making more affordable EVs for the masses. The firm's three-pronged business model approach of direct sales, servicing, and charging its EVs sets it apart from other carmakers. Tesla, which is touted as the clean energy revolutionary automaker, is much more than just a car manufacturer.</span>\n",
      "</td>\n",
      "</tr>\n",
      "</tbody>\n",
      "</table>\n",
      "<table class=\"historical_data_table table\">\n",
      "<thead>\n",
      "<tr>\n",
      "<th style=\"text-align:center; width:40%;\">Stock Name</th>\n",
      "<th style=\"text-align:center; width:20%;\">Country</th>\n",
      "<th style=\"text-align:center; width:20%;\">Market Cap</th>\n",
      "<th style=\"text-align:center; width:20%;\">PE Ratio</th>\n",
      "</tr>\n",
      "</thead>\n",
      "<tbody>\n",
      "<tr>\n",
      "<td style=\"text-align:left\"><a href=\"/stocks/charts/GM/general-motors/revenue\">General Motors (GM)</a></td>\n",
      "<td style=\"text-align:center\">United States</td>\n",
      "<td style=\"text-align:center\">$53.930B</td>\n",
      "<td style=\"text-align:center\">5.56</td>\n",
      "</tr>\n",
      "<tr>\n",
      "<td style=\"text-align:left\"><a href=\"/stocks/charts/F/ford-motor/revenue\">Ford Motor (F)</a></td>\n",
      "<td style=\"text-align:center\">United States</td>\n",
      "<td style=\"text-align:center\">$52.668B</td>\n",
      "<td style=\"text-align:center\">8.09</td>\n",
      "</tr>\n",
      "<tr>\n",
      "<td style=\"text-align:left\"><a href=\"/stocks/charts/HOG/harley-davidson/revenue\">Harley-Davidson (HOG)</a></td>\n",
      "<td style=\"text-align:center\">United States</td>\n",
      "<td style=\"text-align:center\">$6.762B</td>\n",
      "<td style=\"text-align:center\">9.56</td>\n",
      "</tr>\n",
      "<tr>\n",
      "<td style=\"text-align:left\"><a href=\"/stocks/charts/PII/polaris/revenue\">Polaris (PII)</a></td>\n",
      "<td style=\"text-align:center\">United States</td>\n",
      "<td style=\"text-align:center\">$6.267B</td>\n",
      "<td style=\"text-align:center\">11.86</td>\n",
      "</tr>\n",
      "<tr>\n",
      "<td style=\"text-align:left\"><a href=\"/stocks/charts/IAA/iaa/revenue\">IAA (IAA)</a></td>\n",
      "<td style=\"text-align:center\">United States</td>\n",
      "<td style=\"text-align:center\">$5.134B</td>\n",
      "<td style=\"text-align:center\">16.40</td>\n",
      "</tr>\n",
      "<tr>\n",
      "<td style=\"text-align:left\"><a href=\"/stocks/charts/FSR/fisker/revenue\">Fisker (FSR)</a></td>\n",
      "<td style=\"text-align:center\">United States</td>\n",
      "<td style=\"text-align:center\">$2.261B</td>\n",
      "<td style=\"text-align:center\">0.00</td>\n",
      "</tr>\n",
      "<tr>\n",
      "<td style=\"text-align:left\"><a href=\"/stocks/charts/LEV/lion-electric/revenue\">Lion Electric (LEV)</a></td>\n",
      "<td style=\"text-align:center\">Canada</td>\n",
      "<td style=\"text-align:center\">$0.551B</td>\n",
      "<td style=\"text-align:center\">0.00</td>\n",
      "</tr>\n",
      "<tr>\n",
      "<td style=\"text-align:left\"><a href=\"/stocks/charts/VLTA/volta/revenue\">Volta (VLTA)</a></td>\n",
      "<td style=\"text-align:center\">United States</td>\n",
      "<td style=\"text-align:center\">$0.071B</td>\n",
      "<td style=\"text-align:center\">0.00</td>\n",
      "</tr>\n",
      "<tr>\n",
      "<td style=\"text-align:left\"><a href=\"/stocks/charts/BRDS/bird-global/revenue\">Bird Global (BRDS)</a></td>\n",
      "<td style=\"text-align:center\">United States</td>\n",
      "<td style=\"text-align:center\">$0.054B</td>\n",
      "<td style=\"text-align:center\">0.00</td>\n",
      "</tr>\n",
      "<tr>\n",
      "<td style=\"text-align:left\"><a href=\"/stocks/charts/ZEV/lightning-emotors/revenue\">Lightning EMotors (ZEV)</a></td>\n",
      "<td style=\"text-align:center\">United States</td>\n",
      "<td style=\"text-align:center\">$0.043B</td>\n",
      "<td style=\"text-align:center\">0.00</td>\n",
      "</tr>\n",
      "</tbody>\n",
      "</table>\n",
      "<table class=\"table\">\n",
      "<thead>\n",
      "<tr>\n",
      "<th>Link Preview</th>\n",
      "<th>HTML Code (Click to Copy)</th>\n",
      "</tr>\n",
      "</thead>\n",
      "<tbody>\n",
      "<tr>\n",
      "<td><a>Tesla Revenue 2010-2022 | TSLA</a></td>\n",
      "<td><input class=\"modal_link\" size=\"60\" type=\"text\" value=\"&lt;a href='https://www.macrotrends.net/stocks/charts/TSLA/tesla/revenue'&gt;Tesla Revenue 2010-2022 | TSLA&lt;/a&gt;\"/></td>\n",
      "</tr>\n",
      "<tr>\n",
      "<td><a>Macrotrends</a></td>\n",
      "<td><input class=\"modal_link\" size=\"60\" type=\"text\" value=\"&lt;a href='https://www.macrotrends.net/stocks/charts/TSLA/tesla/revenue'&gt;Macrotrends&lt;/a&gt;\"/></td>\n",
      "</tr>\n",
      "<tr>\n",
      "<td><a>Source</a></td>\n",
      "<td><input class=\"modal_link\" size=\"60\" type=\"text\" value=\"&lt;a href='https://www.macrotrends.net/stocks/charts/TSLA/tesla/revenue'&gt;Source&lt;/a&gt;\"/></td>\n",
      "</tr>\n",
      "</tbody>\n",
      "</table>\n",
      "<table class=\"table\">\n",
      "<thead>\n",
      "<tr>\n",
      "<th>Link Preview</th>\n",
      "<th>HTML Code (Click to Copy)</th>\n",
      "</tr>\n",
      "</thead>\n",
      "<tbody>\n",
      "<tr>\n",
      "<td><a>Tesla Revenue 2010-2022 | TSLA</a></td>\n",
      "<td><input class=\"modal_link\" size=\"50\" type=\"text\" value=\"&lt;a href='https://www.macrotrends.net/stocks/charts/TSLA/tesla/revenue'&gt;Tesla Revenue 2010-2022 | TSLA&lt;/a&gt;\"/></td>\n",
      "</tr>\n",
      "<tr>\n",
      "<td><a>Macrotrends</a></td>\n",
      "<td><input class=\"modal_link\" size=\"50\" type=\"text\" value=\"&lt;a href='https://www.macrotrends.net/stocks/charts/TSLA/tesla/revenue'&gt;Macrotrends&lt;/a&gt;\"/></td>\n",
      "</tr>\n",
      "<tr>\n",
      "<td><a>Source</a></td>\n",
      "<td><input class=\"modal_link\" size=\"50\" type=\"text\" value=\"&lt;a href='https://www.macrotrends.net/stocks/charts/TSLA/tesla/revenue'&gt;Source&lt;/a&gt;\"/></td>\n",
      "</tr>\n",
      "</tbody>\n",
      "</table>\n"
     ]
    }
   ],
   "source": [
    "import requests\n",
    "from bs4 import BeautifulSoup\n",
    "\n",
    "# URL de Tesla (cambiar la URL a la página adecuada)\n",
    "tesla_url = \"https://cf-courses-data.s3.us.cloud-object-storage.appdomain.cloud/IBMDeveloperSkillsNetwork-PY0220EN-SkillsNetwork/labs/project/revenue.htm\"\n",
    "tesla_page = requests.get(tesla_url)\n",
    "\n",
    "# Analizar el contenido\n",
    "soup = BeautifulSoup(tesla_page.content, 'html.parser')\n",
    "\n",
    "# Extraer la tabla de ingresos\n",
    "tables = soup.find_all('table')\n",
    "for table in tables:\n",
    "    print(table)\n"
   ]
  },
  {
   "cell_type": "markdown",
   "metadata": {},
   "source": [
    "Parse the html data using `beautiful_soup` using parser i.e `html5lib` or `html.parser`. Make sure to use the `html_data` with the content parameter as follow `html_data.content` .\n",
    "\n",
    "Analice los datos html usando `beautiful_soup` usando el analizador, es decir, `html5lib` o `html.parser`. Asegúrese de utilizar `html_data` con el parámetro de contenido como sigue `html_data.content`."
   ]
  },
  {
   "cell_type": "code",
   "execution_count": 16,
   "metadata": {},
   "outputs": [
    {
     "name": "stdout",
     "output_type": "stream",
     "text": [
      "<!DOCTYPE html>\n",
      "<!--[if lt IE 7]>      <html class=\"no-js lt-ie9 lt-ie8 lt-ie7\"> <![endif]-->\n",
      "<!--[if IE 7]>         <html class=\"no-js lt-ie9 lt-ie8\"> <![endif]-->\n",
      "<!--[if IE 8]>         <html class=\"no-js lt-ie9\"> <![endif]-->\n",
      "<!--[if gt IE 8]><!-->\n",
      "<html class=\"no-js\">\n",
      " <!--<![endif]-->\n",
      " <head>\n",
      "  <meta charset=\"utf-8\"/>\n",
      "  <meta content=\"IE=edge,chrome=1\" http-equiv=\"X-UA-Compatible\"/>\n",
      "  <link href=\"https://www.macrotrends.net/stocks/charts/TSLA/tesla/revenue\" rel=\"canonical\"/>\n",
      "  <title>\n",
      "   Te\n"
     ]
    }
   ],
   "source": [
    "import requests\n",
    "from bs4 import BeautifulSoup\n",
    "\n",
    "# URL de Tesla (cambiar la URL a la página adecuada)\n",
    "tesla_url = \"https://cf-courses-data.s3.us.cloud-object-storage.appdomain.cloud/IBMDeveloperSkillsNetwork-PY0220EN-SkillsNetwork/labs/project/revenue.htm\"\n",
    "\n",
    "# Hacer una solicitud a la página web\n",
    "html_data = requests.get(tesla_url)\n",
    "\n",
    "# Analizar el contenido de la página web usando html.parser\n",
    "soup = BeautifulSoup(html_data.content, 'html.parser')\n",
    "\n",
    "# Mostrar el análisis HTML (por ejemplo, las primeras 500 líneas)\n",
    "print(soup.prettify()[:500])\n"
   ]
  },
  {
   "cell_type": "markdown",
   "metadata": {},
   "source": [
    "Using `BeautifulSoup` or the `read_html` function extract the table with `Tesla Revenue` and store it into a dataframe named `tesla_revenue`. The dataframe should have columns `Date` and `Revenue`.\n",
    "\n",
    "Usando `BeautifulSoup` o la función `read_html`, extraiga la tabla con `Tesla Revenue` y guárdela en un marco de datos llamado `tesla_revenue`. El marco de datos debe tener las columnas \"Fecha\" e \"Ingresos\".\n"
   ]
  },
  {
   "cell_type": "code",
   "execution_count": 19,
   "metadata": {},
   "outputs": [
    {
     "name": "stdout",
     "output_type": "stream",
     "text": [
      "   Fecha Ingresos\n",
      "0   2021  $53,823\n",
      "1   2020  $31,536\n",
      "2   2019  $24,578\n",
      "3   2018  $21,461\n",
      "4   2017  $11,759\n"
     ]
    }
   ],
   "source": [
    "import pandas as pd\n",
    "\n",
    "# URL de Tesla\n",
    "tesla_url = \"https://cf-courses-data.s3.us.cloud-object-storage.appdomain.cloud/IBMDeveloperSkillsNetwork-PY0220EN-SkillsNetwork/labs/project/revenue.htm\"\n",
    "\n",
    "# Leer todas las tablas de la página\n",
    "tables = pd.read_html(tesla_url)\n",
    "\n",
    "# Asumimos que la tabla de ingresos es la primera (puedes ajustar según el caso)\n",
    "tesla_revenue = tables[0]\n",
    "\n",
    "# Renombrar las columnas a \"Fecha\" e \"Ingresos\"\n",
    "tesla_revenue.columns = [\"Fecha\", \"Ingresos\"]\n",
    "\n",
    "# Mostrar las primeras filas\n",
    "print(tesla_revenue.head())\n"
   ]
  },
  {
   "cell_type": "markdown",
   "metadata": {},
   "source": [
    "<details><summary>Step-by-step instructions</summary>\n",
    "\n",
    "```\n",
    "\n",
    "Here are the step-by-step instructions:\n",
    "\n",
    "1. Find All Tables: Start by searching for all HTML tables on a webpage using `soup.find_all('table')`.\n",
    "2. Identify the Relevant Table: then loops through each table. If a table contains the text “Tesla Quarterly Revenue,”, select that table.\n",
    "3. Initialize a DataFrame: Create an empty Pandas DataFrame called `tesla_revenue` with columns “Date” and “Revenue.”\n",
    "4. Loop Through Rows: For each row in the relevant table, extract the data from the first and second columns (date and revenue).\n",
    "5. Clean Revenue Data: Remove dollar signs and commas from the revenue value.\n",
    "6. Add Rows to DataFrame: Create a new row in the DataFrame with the extracted date and cleaned revenue values.\n",
    "7. Repeat for All Rows: Continue this process for all rows in the table.\n",
    "\n",
    "```\n",
    "</details>\n"
   ]
  },
  {
   "cell_type": "markdown",
   "metadata": {},
   "source": [
    "<details><summary>Click here if you need help locating the table</summary>\n",
    "\n",
    "```\n",
    "    \n",
    "Below is the code to isolate the table, you will now need to loop through the rows and columns like in the previous lab\n",
    "    \n",
    "soup.find_all(\"tbody\")[1]\n",
    "    \n",
    "If you want to use the read_html function the table is located at index 1\n",
    "\n",
    "We are focusing on quarterly revenue in the lab.\n",
    "> Note: Instead of using the deprecated pd.append() method, consider using pd.concat([df, pd.DataFrame], ignore_index=True).\n",
    "```\n",
    "\n",
    "</details>\n"
   ]
  },
  {
   "cell_type": "markdown",
   "metadata": {},
   "source": [
    "Execute the following line to remove the comma and dollar sign from the `Revenue` column. \n"
   ]
  },
  {
   "cell_type": "code",
   "execution_count": 21,
   "metadata": {},
   "outputs": [
    {
     "ename": "KeyError",
     "evalue": "'Revenue'",
     "output_type": "error",
     "traceback": [
      "\u001b[1;31m---------------------------------------------------------------------------\u001b[0m",
      "\u001b[1;31mKeyError\u001b[0m                                  Traceback (most recent call last)",
      "File \u001b[1;32m~\\AppData\\Roaming\\Python\\Python311\\site-packages\\pandas\\core\\indexes\\base.py:3805\u001b[0m, in \u001b[0;36mIndex.get_loc\u001b[1;34m(self, key)\u001b[0m\n\u001b[0;32m   3804\u001b[0m \u001b[38;5;28;01mtry\u001b[39;00m:\n\u001b[1;32m-> 3805\u001b[0m     \u001b[38;5;28;01mreturn\u001b[39;00m \u001b[38;5;28mself\u001b[39m\u001b[38;5;241m.\u001b[39m_engine\u001b[38;5;241m.\u001b[39mget_loc(casted_key)\n\u001b[0;32m   3806\u001b[0m \u001b[38;5;28;01mexcept\u001b[39;00m \u001b[38;5;167;01mKeyError\u001b[39;00m \u001b[38;5;28;01mas\u001b[39;00m err:\n",
      "File \u001b[1;32mindex.pyx:167\u001b[0m, in \u001b[0;36mpandas._libs.index.IndexEngine.get_loc\u001b[1;34m()\u001b[0m\n",
      "File \u001b[1;32mindex.pyx:196\u001b[0m, in \u001b[0;36mpandas._libs.index.IndexEngine.get_loc\u001b[1;34m()\u001b[0m\n",
      "File \u001b[1;32mpandas\\\\_libs\\\\hashtable_class_helper.pxi:7081\u001b[0m, in \u001b[0;36mpandas._libs.hashtable.PyObjectHashTable.get_item\u001b[1;34m()\u001b[0m\n",
      "File \u001b[1;32mpandas\\\\_libs\\\\hashtable_class_helper.pxi:7089\u001b[0m, in \u001b[0;36mpandas._libs.hashtable.PyObjectHashTable.get_item\u001b[1;34m()\u001b[0m\n",
      "\u001b[1;31mKeyError\u001b[0m: 'Revenue'",
      "\nThe above exception was the direct cause of the following exception:\n",
      "\u001b[1;31mKeyError\u001b[0m                                  Traceback (most recent call last)",
      "Cell \u001b[1;32mIn[21], line 1\u001b[0m\n\u001b[1;32m----> 1\u001b[0m tesla_revenue[\u001b[38;5;124m\"\u001b[39m\u001b[38;5;124mRevenue\u001b[39m\u001b[38;5;124m\"\u001b[39m] \u001b[38;5;241m=\u001b[39m tesla_revenue[\u001b[38;5;124m'\u001b[39m\u001b[38;5;124mRevenue\u001b[39m\u001b[38;5;124m'\u001b[39m]\u001b[38;5;241m.\u001b[39mstr\u001b[38;5;241m.\u001b[39mreplace(\u001b[38;5;124m'\u001b[39m\u001b[38;5;124m,|\u001b[39m\u001b[38;5;124m\\\u001b[39m\u001b[38;5;124m$\u001b[39m\u001b[38;5;124m'\u001b[39m,\u001b[38;5;124m\"\u001b[39m\u001b[38;5;124m\"\u001b[39m, regex\u001b[38;5;241m=\u001b[39m\u001b[38;5;28;01mTrue\u001b[39;00m)\n",
      "File \u001b[1;32m~\\AppData\\Roaming\\Python\\Python311\\site-packages\\pandas\\core\\frame.py:4102\u001b[0m, in \u001b[0;36mDataFrame.__getitem__\u001b[1;34m(self, key)\u001b[0m\n\u001b[0;32m   4100\u001b[0m \u001b[38;5;28;01mif\u001b[39;00m \u001b[38;5;28mself\u001b[39m\u001b[38;5;241m.\u001b[39mcolumns\u001b[38;5;241m.\u001b[39mnlevels \u001b[38;5;241m>\u001b[39m \u001b[38;5;241m1\u001b[39m:\n\u001b[0;32m   4101\u001b[0m     \u001b[38;5;28;01mreturn\u001b[39;00m \u001b[38;5;28mself\u001b[39m\u001b[38;5;241m.\u001b[39m_getitem_multilevel(key)\n\u001b[1;32m-> 4102\u001b[0m indexer \u001b[38;5;241m=\u001b[39m \u001b[38;5;28mself\u001b[39m\u001b[38;5;241m.\u001b[39mcolumns\u001b[38;5;241m.\u001b[39mget_loc(key)\n\u001b[0;32m   4103\u001b[0m \u001b[38;5;28;01mif\u001b[39;00m is_integer(indexer):\n\u001b[0;32m   4104\u001b[0m     indexer \u001b[38;5;241m=\u001b[39m [indexer]\n",
      "File \u001b[1;32m~\\AppData\\Roaming\\Python\\Python311\\site-packages\\pandas\\core\\indexes\\base.py:3812\u001b[0m, in \u001b[0;36mIndex.get_loc\u001b[1;34m(self, key)\u001b[0m\n\u001b[0;32m   3807\u001b[0m     \u001b[38;5;28;01mif\u001b[39;00m \u001b[38;5;28misinstance\u001b[39m(casted_key, \u001b[38;5;28mslice\u001b[39m) \u001b[38;5;129;01mor\u001b[39;00m (\n\u001b[0;32m   3808\u001b[0m         \u001b[38;5;28misinstance\u001b[39m(casted_key, abc\u001b[38;5;241m.\u001b[39mIterable)\n\u001b[0;32m   3809\u001b[0m         \u001b[38;5;129;01mand\u001b[39;00m \u001b[38;5;28many\u001b[39m(\u001b[38;5;28misinstance\u001b[39m(x, \u001b[38;5;28mslice\u001b[39m) \u001b[38;5;28;01mfor\u001b[39;00m x \u001b[38;5;129;01min\u001b[39;00m casted_key)\n\u001b[0;32m   3810\u001b[0m     ):\n\u001b[0;32m   3811\u001b[0m         \u001b[38;5;28;01mraise\u001b[39;00m InvalidIndexError(key)\n\u001b[1;32m-> 3812\u001b[0m     \u001b[38;5;28;01mraise\u001b[39;00m \u001b[38;5;167;01mKeyError\u001b[39;00m(key) \u001b[38;5;28;01mfrom\u001b[39;00m \u001b[38;5;21;01merr\u001b[39;00m\n\u001b[0;32m   3813\u001b[0m \u001b[38;5;28;01mexcept\u001b[39;00m \u001b[38;5;167;01mTypeError\u001b[39;00m:\n\u001b[0;32m   3814\u001b[0m     \u001b[38;5;66;03m# If we have a listlike key, _check_indexing_error will raise\u001b[39;00m\n\u001b[0;32m   3815\u001b[0m     \u001b[38;5;66;03m#  InvalidIndexError. Otherwise we fall through and re-raise\u001b[39;00m\n\u001b[0;32m   3816\u001b[0m     \u001b[38;5;66;03m#  the TypeError.\u001b[39;00m\n\u001b[0;32m   3817\u001b[0m     \u001b[38;5;28mself\u001b[39m\u001b[38;5;241m.\u001b[39m_check_indexing_error(key)\n",
      "\u001b[1;31mKeyError\u001b[0m: 'Revenue'"
     ]
    }
   ],
   "source": [
    "tesla_revenue[\"Revenue\"] = tesla_revenue['Revenue'].str.replace(',|\\$',\"\", regex=True)"
   ]
  },
  {
   "cell_type": "markdown",
   "metadata": {},
   "source": [
    "Execute the following lines to remove an null or empty strings in the Revenue column.\n"
   ]
  },
  {
   "cell_type": "code",
   "execution_count": 22,
   "metadata": {},
   "outputs": [
    {
     "ename": "KeyError",
     "evalue": "'Revenue'",
     "output_type": "error",
     "traceback": [
      "\u001b[1;31m---------------------------------------------------------------------------\u001b[0m",
      "\u001b[1;31mKeyError\u001b[0m                                  Traceback (most recent call last)",
      "File \u001b[1;32m~\\AppData\\Roaming\\Python\\Python311\\site-packages\\pandas\\core\\indexes\\base.py:3805\u001b[0m, in \u001b[0;36mIndex.get_loc\u001b[1;34m(self, key)\u001b[0m\n\u001b[0;32m   3804\u001b[0m \u001b[38;5;28;01mtry\u001b[39;00m:\n\u001b[1;32m-> 3805\u001b[0m     \u001b[38;5;28;01mreturn\u001b[39;00m \u001b[38;5;28mself\u001b[39m\u001b[38;5;241m.\u001b[39m_engine\u001b[38;5;241m.\u001b[39mget_loc(casted_key)\n\u001b[0;32m   3806\u001b[0m \u001b[38;5;28;01mexcept\u001b[39;00m \u001b[38;5;167;01mKeyError\u001b[39;00m \u001b[38;5;28;01mas\u001b[39;00m err:\n",
      "File \u001b[1;32mindex.pyx:167\u001b[0m, in \u001b[0;36mpandas._libs.index.IndexEngine.get_loc\u001b[1;34m()\u001b[0m\n",
      "File \u001b[1;32mindex.pyx:196\u001b[0m, in \u001b[0;36mpandas._libs.index.IndexEngine.get_loc\u001b[1;34m()\u001b[0m\n",
      "File \u001b[1;32mpandas\\\\_libs\\\\hashtable_class_helper.pxi:7081\u001b[0m, in \u001b[0;36mpandas._libs.hashtable.PyObjectHashTable.get_item\u001b[1;34m()\u001b[0m\n",
      "File \u001b[1;32mpandas\\\\_libs\\\\hashtable_class_helper.pxi:7089\u001b[0m, in \u001b[0;36mpandas._libs.hashtable.PyObjectHashTable.get_item\u001b[1;34m()\u001b[0m\n",
      "\u001b[1;31mKeyError\u001b[0m: 'Revenue'",
      "\nThe above exception was the direct cause of the following exception:\n",
      "\u001b[1;31mKeyError\u001b[0m                                  Traceback (most recent call last)",
      "Cell \u001b[1;32mIn[22], line 3\u001b[0m\n\u001b[0;32m      1\u001b[0m tesla_revenue\u001b[38;5;241m.\u001b[39mdropna(inplace\u001b[38;5;241m=\u001b[39m\u001b[38;5;28;01mTrue\u001b[39;00m)\n\u001b[1;32m----> 3\u001b[0m tesla_revenue \u001b[38;5;241m=\u001b[39m tesla_revenue[tesla_revenue[\u001b[38;5;124m'\u001b[39m\u001b[38;5;124mRevenue\u001b[39m\u001b[38;5;124m'\u001b[39m] \u001b[38;5;241m!=\u001b[39m \u001b[38;5;124m\"\u001b[39m\u001b[38;5;124m\"\u001b[39m]\n",
      "File \u001b[1;32m~\\AppData\\Roaming\\Python\\Python311\\site-packages\\pandas\\core\\frame.py:4102\u001b[0m, in \u001b[0;36mDataFrame.__getitem__\u001b[1;34m(self, key)\u001b[0m\n\u001b[0;32m   4100\u001b[0m \u001b[38;5;28;01mif\u001b[39;00m \u001b[38;5;28mself\u001b[39m\u001b[38;5;241m.\u001b[39mcolumns\u001b[38;5;241m.\u001b[39mnlevels \u001b[38;5;241m>\u001b[39m \u001b[38;5;241m1\u001b[39m:\n\u001b[0;32m   4101\u001b[0m     \u001b[38;5;28;01mreturn\u001b[39;00m \u001b[38;5;28mself\u001b[39m\u001b[38;5;241m.\u001b[39m_getitem_multilevel(key)\n\u001b[1;32m-> 4102\u001b[0m indexer \u001b[38;5;241m=\u001b[39m \u001b[38;5;28mself\u001b[39m\u001b[38;5;241m.\u001b[39mcolumns\u001b[38;5;241m.\u001b[39mget_loc(key)\n\u001b[0;32m   4103\u001b[0m \u001b[38;5;28;01mif\u001b[39;00m is_integer(indexer):\n\u001b[0;32m   4104\u001b[0m     indexer \u001b[38;5;241m=\u001b[39m [indexer]\n",
      "File \u001b[1;32m~\\AppData\\Roaming\\Python\\Python311\\site-packages\\pandas\\core\\indexes\\base.py:3812\u001b[0m, in \u001b[0;36mIndex.get_loc\u001b[1;34m(self, key)\u001b[0m\n\u001b[0;32m   3807\u001b[0m     \u001b[38;5;28;01mif\u001b[39;00m \u001b[38;5;28misinstance\u001b[39m(casted_key, \u001b[38;5;28mslice\u001b[39m) \u001b[38;5;129;01mor\u001b[39;00m (\n\u001b[0;32m   3808\u001b[0m         \u001b[38;5;28misinstance\u001b[39m(casted_key, abc\u001b[38;5;241m.\u001b[39mIterable)\n\u001b[0;32m   3809\u001b[0m         \u001b[38;5;129;01mand\u001b[39;00m \u001b[38;5;28many\u001b[39m(\u001b[38;5;28misinstance\u001b[39m(x, \u001b[38;5;28mslice\u001b[39m) \u001b[38;5;28;01mfor\u001b[39;00m x \u001b[38;5;129;01min\u001b[39;00m casted_key)\n\u001b[0;32m   3810\u001b[0m     ):\n\u001b[0;32m   3811\u001b[0m         \u001b[38;5;28;01mraise\u001b[39;00m InvalidIndexError(key)\n\u001b[1;32m-> 3812\u001b[0m     \u001b[38;5;28;01mraise\u001b[39;00m \u001b[38;5;167;01mKeyError\u001b[39;00m(key) \u001b[38;5;28;01mfrom\u001b[39;00m \u001b[38;5;21;01merr\u001b[39;00m\n\u001b[0;32m   3813\u001b[0m \u001b[38;5;28;01mexcept\u001b[39;00m \u001b[38;5;167;01mTypeError\u001b[39;00m:\n\u001b[0;32m   3814\u001b[0m     \u001b[38;5;66;03m# If we have a listlike key, _check_indexing_error will raise\u001b[39;00m\n\u001b[0;32m   3815\u001b[0m     \u001b[38;5;66;03m#  InvalidIndexError. Otherwise we fall through and re-raise\u001b[39;00m\n\u001b[0;32m   3816\u001b[0m     \u001b[38;5;66;03m#  the TypeError.\u001b[39;00m\n\u001b[0;32m   3817\u001b[0m     \u001b[38;5;28mself\u001b[39m\u001b[38;5;241m.\u001b[39m_check_indexing_error(key)\n",
      "\u001b[1;31mKeyError\u001b[0m: 'Revenue'"
     ]
    }
   ],
   "source": [
    "tesla_revenue.dropna(inplace=True)\n",
    "\n",
    "tesla_revenue = tesla_revenue[tesla_revenue['Revenue'] != \"\"]"
   ]
  },
  {
   "cell_type": "markdown",
   "metadata": {},
   "source": [
    "Display the last 5 row of the `tesla_revenue` dataframe using the `tail` function. Take a screenshot of the results.\n"
   ]
  },
  {
   "cell_type": "code",
   "execution_count": null,
   "metadata": {},
   "outputs": [],
   "source": []
  },
  {
   "cell_type": "markdown",
   "metadata": {},
   "source": [
    "## Question 3: Use yfinance to Extract Stock Data\n"
   ]
  },
  {
   "cell_type": "markdown",
   "metadata": {},
   "source": [
    "Using the `Ticker` function enter the ticker symbol of the stock we want to extract data on to create a ticker object. The stock is GameStop and its ticker symbol is `GME`.\n",
    "\n",
    "Usando la función Ticker, ingrese el símbolo de cotización de la acción de la que queremos extraer datos para crear un objeto de cotización. La acción es GameStop y su símbolo es GME.\n"
   ]
  },
  {
   "cell_type": "code",
   "execution_count": 28,
   "metadata": {},
   "outputs": [
    {
     "name": "stdout",
     "output_type": "stream",
     "text": [
      "                               Open      High       Low     Close     Volume  \\\n",
      "Date                                                                           \n",
      "1980-12-12 00:00:00-05:00  0.098943  0.099373  0.098943  0.098943  469033600   \n",
      "1980-12-15 00:00:00-05:00  0.094211  0.094211  0.093781  0.093781  175884800   \n",
      "1980-12-16 00:00:00-05:00  0.087328  0.087328  0.086898  0.086898  105728000   \n",
      "1980-12-17 00:00:00-05:00  0.089049  0.089479  0.089049  0.089049   86441600   \n",
      "1980-12-18 00:00:00-05:00  0.091630  0.092061  0.091630  0.091630   73449600   \n",
      "\n",
      "                           Dividends  Stock Splits  \n",
      "Date                                                \n",
      "1980-12-12 00:00:00-05:00        0.0           0.0  \n",
      "1980-12-15 00:00:00-05:00        0.0           0.0  \n",
      "1980-12-16 00:00:00-05:00        0.0           0.0  \n",
      "1980-12-17 00:00:00-05:00        0.0           0.0  \n",
      "1980-12-18 00:00:00-05:00        0.0           0.0  \n"
     ]
    }
   ],
   "source": [
    "import yfinance as yf\n",
    "# Prueba con acciones de Apple, por ejemplo\n",
    "apple = yf.Ticker(\"AAPL\")\n",
    "apple_data = apple.history(period=\"max\")\n",
    "print(apple_data.head())\n"
   ]
  },
  {
   "cell_type": "markdown",
   "metadata": {},
   "source": [
    "Using the ticker object and the function `history` extract stock information and save it in a dataframe named `gme_data`. Set the `period` parameter to ` \"max\" ` so we get information for the maximum amount of time.\n",
    "\n",
    "Usando el objeto ticker y la función `history`, extraiga información bursátil y guárdela en un marco de datos llamado `gme_data`. Establezca el parámetro `period` en ` \"max\" ` para que obtengamos información durante la cantidad máxima de tiempo.\n"
   ]
  },
  {
   "cell_type": "code",
   "execution_count": 30,
   "metadata": {},
   "outputs": [
    {
     "name": "stdout",
     "output_type": "stream",
     "text": [
      "                               Open      High       Low     Close     Volume  \\\n",
      "Date                                                                           \n",
      "1980-12-12 00:00:00-05:00  0.098943  0.099373  0.098943  0.098943  469033600   \n",
      "1980-12-15 00:00:00-05:00  0.094211  0.094211  0.093781  0.093781  175884800   \n",
      "1980-12-16 00:00:00-05:00  0.087328  0.087328  0.086898  0.086898  105728000   \n",
      "1980-12-17 00:00:00-05:00  0.089049  0.089479  0.089049  0.089049   86441600   \n",
      "1980-12-18 00:00:00-05:00  0.091631  0.092061  0.091631  0.091631   73449600   \n",
      "\n",
      "                           Dividends  Stock Splits  \n",
      "Date                                                \n",
      "1980-12-12 00:00:00-05:00        0.0           0.0  \n",
      "1980-12-15 00:00:00-05:00        0.0           0.0  \n",
      "1980-12-16 00:00:00-05:00        0.0           0.0  \n",
      "1980-12-17 00:00:00-05:00        0.0           0.0  \n",
      "1980-12-18 00:00:00-05:00        0.0           0.0  \n"
     ]
    }
   ],
   "source": [
    "import yfinance as yf\n",
    "\n",
    "# Probar con un símbolo diferente, como Apple\n",
    "test_ticker = yf.Ticker(\"AAPL\")\n",
    "\n",
    "try:\n",
    "    test_data = test_ticker.history(period=\"max\")\n",
    "    print(test_data.head())\n",
    "except Exception as e:\n",
    "    print(f\"Error: {e}\")\n"
   ]
  },
  {
   "cell_type": "markdown",
   "metadata": {},
   "source": [
    "**Reset the index** using the `reset_index(inplace=True)` function on the gme_data DataFrame and display the first five rows of the `gme_data` dataframe using the `head` function. Take a screenshot of the results and code from the beginning of Question 3 to the results below.\n",
    "\n",
    "**Restablezca el índice** usando la función `reset_index(inplace=True)` en el marco de datos gme_data y muestre las primeras cinco filas del marco de datos `gme_data` usando la función `head`. Tome una captura de pantalla de los resultados y el código desde el comienzo de la Pregunta 3 hasta los resultados a continuación."
   ]
  },
  {
   "cell_type": "code",
   "execution_count": 31,
   "metadata": {},
   "outputs": [
    {
     "name": "stdout",
     "output_type": "stream",
     "text": [
      "                       Date      Open      High       Low     Close    Volume  \\\n",
      "0 2002-02-13 00:00:00-05:00  1.620129  1.693350  1.603296  1.691667  76216000   \n",
      "1 2002-02-14 00:00:00-05:00  1.712707  1.716074  1.670626  1.683250  11021600   \n",
      "2 2002-02-15 00:00:00-05:00  1.683250  1.687458  1.658002  1.674834   8389600   \n",
      "3 2002-02-19 00:00:00-05:00  1.666417  1.666417  1.578047  1.607504   7410400   \n",
      "4 2002-02-20 00:00:00-05:00  1.615920  1.662209  1.603296  1.662209   6892800   \n",
      "\n",
      "   Dividends  Stock Splits  \n",
      "0        0.0           0.0  \n",
      "1        0.0           0.0  \n",
      "2        0.0           0.0  \n",
      "3        0.0           0.0  \n",
      "4        0.0           0.0  \n"
     ]
    }
   ],
   "source": [
    "import yfinance as yf\n",
    "\n",
    "# Crear un objeto Ticker para GameStop\n",
    "gme = yf.Ticker(\"GME\")\n",
    "\n",
    "# Obtener el historial de precios para el período máximo\n",
    "gme_data = gme.history(period=\"max\")\n",
    "\n",
    "# Restablecer el índice\n",
    "gme_data.reset_index(inplace=True)\n",
    "\n",
    "# Mostrar las primeras cinco filas del DataFrame\n",
    "print(gme_data.head())\n"
   ]
  },
  {
   "cell_type": "markdown",
   "metadata": {},
   "source": [
    "## Question 4: Use Webscraping to Extract GME Revenue Data\n"
   ]
  },
  {
   "cell_type": "markdown",
   "metadata": {},
   "source": [
    "Use the `requests` library to download the webpage https://cf-courses-data.s3.us.cloud-object-storage.appdomain.cloud/IBMDeveloperSkillsNetwork-PY0220EN-SkillsNetwork/labs/project/stock.html. Save the text of the response as a variable named `html_data_2`.\n",
    "\n",
    "Utilice la biblioteca de solicitudes para descargar la página web https://cf-courses-data.s3.us.cloud-object-storage.appdomain.cloud/IBMDeveloperSkillsNetwork-PY0220EN-SkillsNetwork/labs/project/stock.html. Guarde el texto de la respuesta como una variable denominada html_data_2."
   ]
  },
  {
   "cell_type": "code",
   "execution_count": 32,
   "metadata": {},
   "outputs": [
    {
     "name": "stdout",
     "output_type": "stream",
     "text": [
      "<!DOCTYPE html>\n",
      "<!-- saved from url=(0105)https://web.archive.org/web/20200814131437/https://www.macrotrends.net/stocks/charts/GME/gamestop/revenue -->\n",
      "<html class=\" js flexbox canvas canvastext webgl no-touch geolocation postmessage websqldatabase indexeddb hashchange history draganddrop websockets rgba hsla multiplebgs backgroundsize borderimage borderradius boxshadow textshadow opacity cssanimations csscolumns cssgradients cssreflections csstransforms csstransforms3d csstransitions fontface g\n"
     ]
    }
   ],
   "source": [
    "import requests\n",
    "\n",
    "# URL de la página web que contiene los datos de ingresos de GameStop\n",
    "url = \"https://cf-courses-data.s3.us.cloud-object-storage.appdomain.cloud/IBMDeveloperSkillsNetwork-PY0220EN-SkillsNetwork/labs/project/stock.html\"\n",
    "\n",
    "# Realizar la solicitud HTTP para obtener el contenido de la página\n",
    "response = requests.get(url)\n",
    "\n",
    "# Guardar el texto de la respuesta en la variable html_data_2\n",
    "html_data_2 = response.text\n",
    "\n",
    "# Mostrar las primeras 500 caracteres del HTML para verificar\n",
    "print(html_data_2[:500])\n"
   ]
  },
  {
   "cell_type": "markdown",
   "metadata": {},
   "source": [
    "Parse the html data using `beautiful_soup` using parser i.e `html5lib` or `html.parser`.\n",
    "\n",
    "Analice los datos html usando `beautiful_soup` usando el analizador, es decir, `html5lib` o `html.parser`.\n"
   ]
  },
  {
   "cell_type": "code",
   "execution_count": 34,
   "metadata": {},
   "outputs": [
    {
     "name": "stdout",
     "output_type": "stream",
     "text": [
      "<!DOCTYPE html>\n",
      "<!-- saved from url=(0105)https://web.archive.org/web/20200814131437/https://www.macrotrends.net/stocks/charts/GME/gamestop/revenue -->\n",
      "<html class=\"js flexbox canvas canvastext webgl no-touch geolocation postmessage websqldatabase indexeddb hashchange history draganddrop websockets rgba hsla multiplebgs backgroundsize borderimage borderradius boxshadow textshadow opacity cssanimations csscolumns cssgradients cssreflections csstransforms csstransforms3d csstransitions fontface ge\n"
     ]
    }
   ],
   "source": [
    "from bs4 import BeautifulSoup\n",
    "import requests\n",
    "\n",
    "# Crear un objeto BeautifulSoup usando el analizador html.parser\n",
    "soup_parser = BeautifulSoup(html_data_2, 'html.parser')\n",
    "\n",
    "# Mostrar las primeras 500 caracteres del contenido analizado para verificar\n",
    "print(soup_parser.prettify()[:500])\n"
   ]
  },
  {
   "cell_type": "markdown",
   "metadata": {},
   "source": [
    "Using `BeautifulSoup` or the `read_html` function extract the table with `GameStop Revenue` and store it into a dataframe named `gme_revenue`. The dataframe should have columns `Date` and `Revenue`. Make sure the comma and dollar sign is removed from the `Revenue` column.\n",
    "\n",
    "Usando `BeautifulSoup` o la función `read_html`, extraiga la tabla con `GameStop Revenue` y guárdela en un marco de datos llamado `gme_revenue`. El marco de datos debe tener las columnas \"Fecha\" e \"Ingresos\". Asegúrese de eliminar la coma y el signo de dólar de la columna \"Ingresos\".\n"
   ]
  },
  {
   "cell_type": "markdown",
   "metadata": {},
   "source": [
    "> **Note: Use the method similar to what you did in question 2.**  \n"
   ]
  },
  {
   "cell_type": "markdown",
   "metadata": {},
   "source": [
    "<details><summary>Click here if you need help locating the table</summary>\n",
    "\n",
    "```\n",
    "    \n",
    "Below is the code to isolate the table, you will now need to loop through the rows and columns like in the previous lab\n",
    "    \n",
    "soup.find_all(\"tbody\")[1]\n",
    "    \n",
    "If you want to use the read_html function the table is located at index 1\n",
    "\n",
    "\n",
    "```\n",
    "\n",
    "</details>\n"
   ]
  },
  {
   "cell_type": "code",
   "execution_count": 35,
   "metadata": {},
   "outputs": [
    {
     "name": "stdout",
     "output_type": "stream",
     "text": [
      "   Fecha  Ingresos\n",
      "0   2020    6466.0\n",
      "1   2019    8285.0\n",
      "2   2018    8547.0\n",
      "3   2017    7965.0\n",
      "4   2016    9364.0\n"
     ]
    }
   ],
   "source": [
    "import requests\n",
    "import pandas as pd\n",
    "from bs4 import BeautifulSoup\n",
    "\n",
    "# URL de la página web\n",
    "url = \"https://cf-courses-data.s3.us.cloud-object-storage.appdomain.cloud/IBMDeveloperSkillsNetwork-PY0220EN-SkillsNetwork/labs/project/stock.html\"\n",
    "\n",
    "# Descargar el contenido de la página\n",
    "response = requests.get(url)\n",
    "html_data_2 = response.text\n",
    "\n",
    "# Crear un objeto BeautifulSoup usando el analizador html.parser\n",
    "soup = BeautifulSoup(html_data_2, 'html.parser')\n",
    "\n",
    "# Encontrar la tabla con GameStop Revenue\n",
    "# Esto es un ejemplo; puede que necesites ajustar el selector según la estructura de la página\n",
    "table = soup.find('table')\n",
    "\n",
    "# Convertir la tabla a un DataFrame de pandas\n",
    "gme_revenue = pd.read_html(str(table))[0]\n",
    "\n",
    "# Limpiar las columnas del DataFrame\n",
    "gme_revenue.columns = ['Fecha', 'Ingresos']  # Renombrar columnas\n",
    "gme_revenue['Ingresos'] = gme_revenue['Ingresos'].replace({'\\$': '', ',': ''}, regex=True).astype(float)  # Eliminar signo de dólar y comas\n",
    "\n",
    "# Mostrar las primeras filas del DataFrame\n",
    "print(gme_revenue.head())\n"
   ]
  },
  {
   "cell_type": "markdown",
   "metadata": {},
   "source": [
    "Display the last five rows of the `gme_revenue` dataframe using the `tail` function. Take a screenshot of the results.\n",
    "\n",
    "Muestre las últimas cinco filas del marco de datos `gme_revenue` usando la función `tail`. Tome una captura de pantalla de los resultados.\n"
   ]
  },
  {
   "cell_type": "code",
   "execution_count": 36,
   "metadata": {},
   "outputs": [
    {
     "name": "stdout",
     "output_type": "stream",
     "text": [
      "    Fecha  Ingresos\n",
      "11   2009    8806.0\n",
      "12   2008    7094.0\n",
      "13   2007    5319.0\n",
      "14   2006    3092.0\n",
      "15   2005    1843.0\n"
     ]
    }
   ],
   "source": [
    "# Limpiar las columnas del DataFrame\n",
    "gme_revenue.columns = ['Fecha', 'Ingresos']  # Renombrar columnas\n",
    "gme_revenue['Ingresos'] = gme_revenue['Ingresos'].replace({'\\$': '', ',': ''}, regex=True).astype(float)  # Eliminar signo de dólar y comas\n",
    "\n",
    "# Mostrar las últimas cinco filas del DataFrame\n",
    "print(gme_revenue.tail())"
   ]
  },
  {
   "cell_type": "markdown",
   "metadata": {},
   "source": [
    "## Question 5: Plot Tesla Stock Graph\n"
   ]
  },
  {
   "cell_type": "markdown",
   "metadata": {},
   "source": [
    "Use the `make_graph` function to graph the Tesla Stock Data, also provide a title for the graph. Note the graph will only show data upto June 2021.\n",
    "\n",
    "Utilice la función `make_graph` para graficar los datos de acciones de Tesla y también proporcione un título para el gráfico. Tenga en cuenta que el gráfico solo mostrará datos hasta junio de 2021.\n"
   ]
  },
  {
   "cell_type": "markdown",
   "metadata": {},
   "source": [
    "<details><summary>Hint</summary>\n",
    "\n",
    "```\n",
    "\n",
    "You just need to invoke the make_graph function with the required parameter to print the graphs.The structure to call the `make_graph` function is `make_graph(tesla_data, tesla_revenue, 'Tesla')`.\n",
    "\n",
    "```\n",
    "    \n",
    "</details>\n"
   ]
  },
  {
   "cell_type": "code",
   "execution_count": 38,
   "metadata": {},
   "outputs": [
    {
     "data": {
      "image/png": "[encoded data removed]",
      "text/plain": [
       "<Figure size 1400x700 with 1 Axes>"
      ]
     },
     "metadata": {},
     "output_type": "display_data"
    }
   ],
   "source": [
    "import yfinance as yf\n",
    "import matplotlib.pyplot as plt\n",
    "import pandas as pd\n",
    "\n",
    "def make_graph(data, title):\n",
    "    # Configuración del gráfico\n",
    "    plt.figure(figsize=(14, 7))\n",
    "    plt.plot(data.index, data['Close'], label='Precio de Cierre', color='blue')\n",
    "    plt.xlabel('Fecha')\n",
    "    plt.ylabel('Precio de Cierre')\n",
    "    plt.title(title)\n",
    "    plt.legend()\n",
    "    plt.grid(True)\n",
    "    plt.show()\n",
    "\n",
    "# Crear un objeto Ticker para Tesla\n",
    "tesla = yf.Ticker(\"TSLA\")\n",
    "\n",
    "# Intentar obtener el historial de precios\n",
    "try:\n",
    "    tesla_data = tesla.history(start=\"2010-01-01\", end=\"2021-06-30\")\n",
    "    \n",
    "    if tesla_data.empty:\n",
    "        raise ValueError(\"No data found for Tesla. The symbol may be incorrect or the data might not be available.\")\n",
    "    \n",
    "    # Usar la función make_graph para graficar los datos\n",
    "    make_graph(tesla_data, 'Precio de Cierre de Acciones de Tesla hasta Junio de 2021')\n",
    "    \n",
    "except Exception as e:\n",
    "    print(f\"Error: {e}\")\n"
   ]
  },
  {
   "cell_type": "markdown",
   "metadata": {},
   "source": [
    "## Question 6: Plot GameStop Stock Graph\n"
   ]
  },
  {
   "cell_type": "markdown",
   "metadata": {},
   "source": [
    "Use the `make_graph` function to graph the GameStop Stock Data, also provide a title for the graph. The structure to call the `make_graph` function is `make_graph(gme_data, gme_revenue, 'GameStop')`. Note the graph will only show data upto June 2021.\n",
    "\n",
    "Utilice la función `make_graph` para graficar los datos de acciones de GameStop y también proporcione un título para el gráfico. La estructura para llamar a la función `make_graph` es `make_graph(gme_data, gme_revenue, 'GameStop')`. Tenga en cuenta que el gráfico solo mostrará datos hasta junio de 2021.\n"
   ]
  },
  {
   "cell_type": "markdown",
   "metadata": {},
   "source": [
    "<details><summary>Hint</summary>\n",
    "\n",
    "```\n",
    "\n",
    "You just need to invoke the make_graph function with the required parameter to print the graphs.The structure to call the `make_graph` function is `make_graph(gme_data, gme_revenue, 'GameStop')`\n",
    "\n",
    "```\n",
    "    \n",
    "</details>\n"
   ]
  },
  {
   "cell_type": "code",
   "execution_count": 40,
   "metadata": {},
   "outputs": [
    {
     "data": {
      "image/png": "[encoded data removed]",
      "text/plain": [
       "<Figure size 1400x700 with 1 Axes>"
      ]
     },
     "metadata": {},
     "output_type": "display_data"
    }
   ],
   "source": [
    "import yfinance as yf\n",
    "import pandas as pd\n",
    "import matplotlib.pyplot as plt\n",
    "\n",
    "def make_graph(price_data, revenue_data, title):\n",
    "    plt.figure(figsize=(14, 7))\n",
    "    plt.plot(price_data.index, price_data['Close'], label='Precio de Cierre', color='blue')\n",
    "    \n",
    "    if revenue_data is not None and not revenue_data.empty:\n",
    "        plt.plot(revenue_data['Fecha'], revenue_data['Ingresos'], label='Ingresos', color='green', linestyle='--')\n",
    "    \n",
    "    plt.xlabel('Fecha')\n",
    "    plt.ylabel('Precio / Ingresos')\n",
    "    plt.title(title)\n",
    "    plt.legend()\n",
    "    plt.grid(True)\n",
    "    plt.show()\n",
    "\n",
    "# Descargar los datos de GameStop\n",
    "gme = yf.Ticker(\"GME\")\n",
    "gme_data = gme.history(period=\"max\")\n",
    "gme_data = gme_data[:'2021-06-30']  # Filtrar hasta el 30 de junio de 2021\n",
    "\n",
    "# Supongamos que tienes los datos de ingresos en un DataFrame llamado `gme_revenue`\n",
    "# Si no tienes datos de ingresos, puedes asignar `None` a `gme_revenue`\n",
    "gme_revenue = None  # Reemplaza esto con tus datos de ingresos reales si los tienes\n",
    "\n",
    "# Llamar a la función make_graph\n",
    "make_graph(gme_data, gme_revenue, 'GameStop')\n"
   ]
  },
  {
   "cell_type": "markdown",
   "metadata": {},
   "source": [
    "<h2>About the Authors:</h2> \n",
    "\n",
    "<a href=\"https://www.linkedin.com/in/joseph-s-50398b136/\">Joseph Santarcangelo</a> has a PhD in Electrical Engineering, his research focused on using machine learning, signal processing, and computer vision to determine how videos impact human cognition. Joseph has been working for IBM since he completed his PhD.\n"
   ]
  },
  {
   "cell_type": "markdown",
   "metadata": {},
   "source": [
    "## <h3 align=\"center\"> © IBM Corporation 2020. All rights reserved. <h3/>\n",
    "\n",
    "```toggle ## Change Log\n",
    "```\n",
    "```toggle | Date (YYYY-MM-DD) | Version | Changed By    | Change Description        |\n",
    "```\n",
    "```toggle | ----------------- | ------- | ------------- | ------------------------- |\n",
    "```\n",
    "```toggle | 2022-02-28        | 1.2     | Lakshmi Holla | Changed the URL of GameStop |\n",
    "```\n",
    "```toggle | 2020-11-10        | 1.1     | Malika Singla | Deleted the Optional part |\n",
    "```\n",
    "```toggle | 2020-08-27        | 1.0     | Malika Singla | Added lab to GitLab       |\n",
    "```\n"
   ]
  }
 ],
 "metadata": {
  "kernelspec": {
   "display_name": "Python 3 (ipykernel)",
   "language": "python",
   "name": "python3"
  },
  "language_info": {
   "codemirror_mode": {
    "name": "ipython",
    "version": 3
   },
   "file_extension": ".py",
   "mimetype": "text/x-python",
   "name": "python",
   "nbconvert_exporter": "python",
   "pygments_lexer": "ipython3",
   "version": "3.11.7"
  },
  "prev_pub_hash": "3eff379447b11bb93fcfe9128340484c280bbca92c51ece98405a1f05537425b"
 },
 "nbformat": 4,
 "nbformat_minor": 4
}
