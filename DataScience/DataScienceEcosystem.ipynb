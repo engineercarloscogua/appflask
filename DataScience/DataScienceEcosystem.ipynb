{
 "cells": [
  {
   "cell_type": "markdown",
   "id": "6582dd87-7013-41f9-a131-6cb9401b66d7",
   "metadata": {},
   "source": [
    "#  DataScienceEcosystem"
   ]
  },
  {
   "cell_type": "markdown",
   "id": "0208a0e7-441d-4da2-b4c9-5706cefde9db",
   "metadata": {},
   "source": [
    "## Introduction\n",
    "### The following Jupyther notebook will contain information about data science languages"
   ]
  },
  {
   "cell_type": "markdown",
   "id": "66d6cd16-4c09-4aee-86ff-7a541f56661b",
   "metadata": {},
   "source": [
    "Some of the popular languages that Data Scientists use are:\n",
    "1. Python\n",
    "2. R\n",
    "3. SQL\n",
    "4. Julia\n",
    "5. SAS\n",
    "6. MATLAB\n",
    "7. Scala\n",
    "8. Java\n",
    "9. C++\n",
    "10. JavaScript\n",
    "11. TensorFlow (lenguaje de scripting)\n",
    "12. PHP\n",
    "13. Go\n",
    "14. Ruby\n",
    "15. Shell Scripting (Bash)"
   ]
  },
  {
   "cell_type": "markdown",
   "id": "dad1dd73-bd3f-44be-b2de-81f4e319ba6c",
   "metadata": {},
   "source": [
    "# Data Science Tools\r\n",
    "\r\n",
    "| **Python**                      | **R**                      | **Julia**                   | **JavaScript**      |\r\n",
    "|---------------------------------|----------------------------|-----------------------------|---------------------|\r\n",
    "| 1.1. NumPy                      | 2.1. dplyr                 | 3.1. DataFrames.jl          | 4.1. D3.js          |\r\n",
    "| 1.2. pandas                     | 2.2. ggplot2               | 3.2. Flux.jl                | 4.2. TensorFlow.js  |\r\n",
    "| 1.3. SciPy                      | 2.3. tidyr                 | 3.3. MLJ.jl                 | 4.3. Brain.js       |\r\n",
    "| 1.4. scikit-learn               | 2.4. caret                 | 3.4. Plots.jl               | 4.4. Chart.js       |\r\n",
    "| 1.5. TensorFlow                 | 2.5. randomForest          | 3.5. Gadfly                 | 4.5. Plotly.js      |\r\n",
    "| 1.6. PyTorch                    | 2.6. Shiny                 | 3.6. JuMP                   | 4.6. Cytoscape.js   |\r\n",
    "| 1.7. Keras                      | 2.7. data.table            | 3.7. DifferentialEquations.jl |                     |\r\n",
    "| 1.8. Matplotlib                 | 2.8. plotly                | 3.8. Turing.jl              |                     |\r\n",
    "| 1.9. Seaborn                    | 2.9. xgboost               |                             |                     |\r\n",
    "| 1.10. Plotly                    | 2.10. forecast             |                             |                     |\r\n",
    "| 1.11. Statsmodels               | 2.11. stringr              |                             |                     |\r\n",
    "| 1.12. XGBoost                   | 2.12. lubridate            |                             |                     |\r\n",
    "| 1.13. LightGBM                  | 2.13. tm                   |                             |                     |\r\n",
    "| 1.14. CatBoost                  | 2.14. quantmod             |                             |                     |\r\n",
    "| 1.15. NLTK                      | 2.15. mlr3                 |                             |                     |\r\n",
    "| 1.16. spaCy                     | 2.16. H2O.ai               |                             |                     |\r\n",
    "| 1.17. OpenCV                    |                            |                             |                     |\r\n",
    "| 1.18. Dask                      |                            |                             |                     |\r\n",
    "| 1.19. H2O.ai                    |                            |                             |                     |\r\n",
    "\r\n",
    "| **Java**                  | **Scala**                    | **C++**              | **SAS**              |\r\n",
    "|---------------------------|------------------------------|----------------------|----------------------|\r\n",
    "| 5.1. Weka                 | 6.1. Apache Spark (Scala API) | 7.1. Dlib            | 8.1. SAS/STAT        |\r\n",
    "| 5.2. Deeplearning4j       | 6.2. Breeze                  | 7.2. Shark           | 8.2. SAS/ETS         |\r\n",
    "| 5.3. MOA                  | 6.3. ScalaNLP                | 7.3. mlpack          | 8.3. SAS Visual Analytics |\r\n",
    "| 5.4. Apache Spark (Java API) | 6.4. Smile                | 7.4. OpenCV          |                      |\r\n",
    "| 5.5. ELKI                 |                              |                      |                      |\r\n",
    "| 5.6. RapidMiner           |                              |                      |                      |\r\n",
    "\r\n",
    "| **MATLAB**                      | **Go**                | **Ruby**           |\r\n",
    "|---------------------------------|-----------------------|--------------------|\r\n",
    "| 9.1. Statistics and Machine Learning Toolbox | 10.1. Gonum        | 11.1. Daru        |\r\n",
    "| 9.2. Deep Learning Toolbox      | 10.2. Gorgonia        | 11.2. NMatrix      |\r\n",
    "| 9.3. Neural Network Toolbox     | 10.3. DataFrame-go    | 11.3. SciRuby      |\r\n",
    "| 9.4. Optimization Toolbox       |                       |                    |\r\n",
    "ia  \r\n",
    "- 10.3. DataFrame-go  \r\n",
    "\r\n",
    "## 11. Ruby\r\n",
    "- 11.1. Daru  \r\n",
    "- 11.2. NMatrix  \r\n",
    "- 11.3. SciRuby  \r\n"
   ]
  },
  {
   "cell_type": "markdown",
   "id": "29f54155-01f3-4d46-be01-c2358de38ca7",
   "metadata": {},
   "source": [
    "# Examples of Arithmetic Expressions\r\n",
    "\r\n",
    "Below are some examples of common arithmetic expressions:\r\n",
    "\r\n",
    "1. **Addition**:  \r\n",
    "   \\[\r\n",
    "   3 + 5 = 8\r\n",
    "   \\]\r\n",
    "\r\n",
    "2. **Subtraction**:  \r\n",
    "   \\[\r\n",
    "   10 - 4 = 6\r\n",
    "   \\]\r\n",
    "\r\n",
    "3. **Multiplication**:  \r\n",
    "   \\[\r\n",
    "   7 \\times 8 = 56\r\n",
    "   \\]\r\n",
    "\r\n",
    "4. **Division**:  \r\n",
    "   \\[\r\n",
    "   \\frac{20}{4} = 5\r\n",
    "   \\]\r\n",
    "\r\n",
    "5. **Exponentiation**:  \r\n",
    "   \\[\r\n",
    "   2^3 = 8\r\n",
    "   \\]\r\n",
    "\r\n",
    "6. **Square Root**:  \r\n",
    "   \\[\r\n",
    "   \\sqrt{16} = 4\r\n",
    "   \\]\r\n",
    "\r\n",
    "7. **Modulo (Remainder of division)**:  \r\n",
    "   \\[\r\n",
    "   17 \\bmod 3 = 2\r\n",
    "   \\]\r\n",
    "\r\n",
    "8. **Combined Expression**:  \r\n",
    "   \\[\r\n",
    "   (2 + 3) \\times (4 - 1) = 5 \\times 3 = 15\r\n",
    "   \\]\r\n",
    "\r\n",
    "These expressions demonstrate basic arithmetic operations that can be performed with numbers.\r\n"
   ]
  },
  {
   "cell_type": "code",
   "execution_count": 3,
   "id": "e7e6b665-82e8-4adb-a4e6-4a66b31a1cd7",
   "metadata": {},
   "outputs": [
    {
     "data": {
      "text/plain": [
       "17"
      ]
     },
     "execution_count": 3,
     "metadata": {},
     "output_type": "execute_result"
    }
   ],
   "source": [
    "#This code multiplies the number 3 with the number 4 and adds the number 5 to the result\n",
    "(3*4)+5  # The result will be 17"
   ]
  },
  {
   "cell_type": "code",
   "execution_count": 4,
   "id": "880a44f9-4828-4d6b-b9f5-41ccd42f7a0d",
   "metadata": {},
   "outputs": [
    {
     "name": "stdout",
     "output_type": "stream",
     "text": [
      "120 minutes is equal to 2.0 hours.\n"
     ]
    }
   ],
   "source": [
    "# Function to convert minutes to hours\n",
    "def convert_minutes_to_hours(minutes):\n",
    "    \"\"\"\n",
    "    Convert minutes to hours.\n",
    "    \n",
    "    Parameters:\n",
    "    minutes (int or float): The number of minutes to be converted.\n",
    "\n",
    "    Returns:\n",
    "    float: The equivalent number of hours.\n",
    "    \"\"\"\n",
    "    # Calculate hours by dividing minutes by 60\n",
    "    hours = minutes / 60\n",
    "    return hours\n",
    "\n",
    "# Example usage of the function\n",
    "minutes = 120  # Example: 120 minutes\n",
    "hours = convert_minutes_to_hours(minutes)  # Call the function to convert\n",
    "print(f\"{minutes} minutes is equal to {hours} hours.\")\n"
   ]
  },
  {
   "cell_type": "markdown",
   "id": "b11eccf5-de0e-4527-8d47-b5d20e020e76",
   "metadata": {},
   "source": [
    "**Objectives:**\n",
    "\n",
    "- List popular languages for Data Science.\n",
    "- Identify key libraries and tools used in Data Science.\n",
    "- Understand basic arithmetic operations in Python.\n",
    "- Learn how to convert units, such as minutes to hours, using Python functions.\n",
    "- Explore Markdown formatting for documentation in Jupyter Notebooks.\n"
   ]
  },
  {
   "cell_type": "markdown",
   "id": "bbbee8ee-2d4e-4af7-8428-5dd61f57d8e5",
   "metadata": {},
   "source": [
    "## Author\n",
    "\n",
    "Carlos Arnulfo Cogua Laverde - Yopal, Casanare, Colombia\n"
   ]
  }
 ],
 "metadata": {
  "kernelspec": {
   "display_name": "Python 3 (ipykernel)",
   "language": "python",
   "name": "python3"
  },
  "language_info": {
   "codemirror_mode": {
    "name": "ipython",
    "version": 3
   },
   "file_extension": ".py",
   "mimetype": "text/x-python",
   "name": "python",
   "nbconvert_exporter": "python",
   "pygments_lexer": "ipython3",
   "version": "3.11.7"
  }
 },
 "nbformat": 4,
 "nbformat_minor": 5
}
